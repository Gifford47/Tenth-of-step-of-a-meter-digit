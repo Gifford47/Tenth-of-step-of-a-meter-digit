{
 "cells": [
  {
   "cell_type": "markdown",
   "id": "49ed381c",
   "metadata": {
    "papermill": {
     "duration": 0.022496,
     "end_time": "2022-05-05T11:24:06.118995",
     "exception": false,
     "start_time": "2022-05-05T11:24:06.096499",
     "status": "completed"
    },
    "tags": []
   },
   "source": [
    "#### The CNN21 model\n",
    "\n",
    "Using effent because it should later run on edge AI device."
   ]
  },
  {
   "cell_type": "code",
   "execution_count": 1,
   "id": "22d83ba9",
   "metadata": {
    "execution": {
     "iopub.execute_input": "2022-05-05T11:24:14.101280Z",
     "iopub.status.busy": "2022-05-05T11:24:14.100810Z",
     "iopub.status.idle": "2022-05-05T11:24:14.106190Z",
     "shell.execute_reply": "2022-05-05T11:24:14.105470Z"
    },
    "papermill": {
     "duration": 0.02918,
     "end_time": "2022-05-05T11:24:14.108133",
     "exception": false,
     "start_time": "2022-05-05T11:24:14.078953",
     "status": "completed"
    },
    "tags": []
   },
   "outputs": [],
   "source": [
    "########### Basic Parameters for Running: ################################\n",
    "    \n",
    "Training_Percentage = 0.2           \n",
    "Epoch_Anz = 400                      # earlystopping, see model.fit\n",
    "nb_classes = 100                     # move to 1. step\n",
    "#input_shape = (32, 20,1)            # will be calculated\n",
    "Batch_Size = 32\n",
    "use_grayscale = False                # grayscale or rgb\n",
    "model_filename = \"cnn32\"\n",
    "\n",
    "##########################################################################\n"
   ]
  },
  {
   "cell_type": "markdown",
   "id": "8133a08c",
   "metadata": {
    "papermill": {
     "duration": 0.019921,
     "end_time": "2022-05-05T11:24:12.733650",
     "exception": false,
     "start_time": "2022-05-05T11:24:12.713729",
     "status": "completed"
    },
    "tags": []
   },
   "source": [
    "### Class Encoding\n",
    "\n",
    "To ensure the values are enumerated from 0.0 - 9.9 in categorical and can be used in the C++ code later with argmax() / 10.0, encoding and decoding functions will be used."
   ]
  },
  {
   "cell_type": "code",
   "execution_count": 2,
   "id": "77f9559e",
   "metadata": {
    "execution": {
     "iopub.execute_input": "2022-05-05T11:24:12.776804Z",
     "iopub.status.busy": "2022-05-05T11:24:12.776440Z",
     "iopub.status.idle": "2022-05-05T11:24:12.787499Z",
     "shell.execute_reply": "2022-05-05T11:24:12.786462Z"
    },
    "papermill": {
     "duration": 0.034664,
     "end_time": "2022-05-05T11:24:12.789590",
     "exception": false,
     "start_time": "2022-05-05T11:24:12.754926",
     "status": "completed"
    },
    "tags": []
   },
   "outputs": [],
   "source": [
    "from tensorflow import keras\n",
    "import math\n",
    "import numpy as np\n",
    "\n",
    "def class_encoding(y_train, nb_classes):\n",
    "    '''like to_categorical.\n",
    "        y_train must be an array\n",
    "        nb_classes for the class count, if not all values in y_train\n",
    "    '''\n",
    "    ret = np.zeros((len(y_train), nb_classes))\n",
    "    for i, y in enumerate(y_train):\n",
    "        ret[i, int((y*10))] = 1\n",
    "    return ret\n",
    "\n",
    "def class_decoding(y_train, nb_classes=100):\n",
    "    ''' from_categorical like function. It returns a float value between 0.0 and 9.9\n",
    "        y_train the encoded values in an array\n",
    "        nb_classes should be ignored. will not used\n",
    "    '''\n",
    "    ret = np.zeros((len(y_train), 1))\n",
    "    for i, y in enumerate(y_train):\n",
    "        ret[i] = (np.argmax(y))/10\n",
    "    return ret"
   ]
  },
  {
   "cell_type": "markdown",
   "id": "3bd5adcd",
   "metadata": {
    "papermill": {
     "duration": 0.020749,
     "end_time": "2022-05-05T11:24:12.890268",
     "exception": false,
     "start_time": "2022-05-05T11:24:12.869519",
     "status": "completed"
    },
    "tags": []
   },
   "source": [
    "#### Augmentation functions\n",
    "\n",
    "The augmentation of train data uses \n",
    "* width shift\n",
    "* no height shift\n",
    "* random brightness\n",
    "* random rotation\n",
    "* rgb channel shift\n",
    "* random shear\n",
    "* random invert of the images\n",
    "* random spot light (led reflections)\n",
    "* random noising \n",
    "\n",
    "So the font dataset looks more like a meter digit and the augmentation prevents overfitting."
   ]
  },
  {
   "cell_type": "code",
   "execution_count": 3,
   "id": "77172d11",
   "metadata": {
    "execution": {
     "iopub.execute_input": "2022-05-05T11:24:12.933782Z",
     "iopub.status.busy": "2022-05-05T11:24:12.933232Z",
     "iopub.status.idle": "2022-05-05T11:24:13.696603Z",
     "shell.execute_reply": "2022-05-05T11:24:13.695641Z"
    },
    "jupyter": {
     "source_hidden": true
    },
    "papermill": {
     "duration": 0.788445,
     "end_time": "2022-05-05T11:24:13.699165",
     "exception": false,
     "start_time": "2022-05-05T11:24:12.910720",
     "status": "completed"
    },
    "tags": []
   },
   "outputs": [],
   "source": [
    "import numpy as np\n",
    "from scipy.stats import norm\n",
    "import cv2\n",
    "import random\n",
    "from keras.preprocessing.image import ImageDataGenerator\n",
    "import random\n",
    "\n",
    "def add_noise(img):\n",
    "    '''Add random noise to an image'''\n",
    "    VARIABILITY = 3\n",
    "    deviation = VARIABILITY*random.random()\n",
    "    noise = np.random.normal(0, deviation, img.shape)\n",
    "    img += noise\n",
    "    np.clip(img, 0., 255.)\n",
    "    return img\n",
    "\n",
    "\n",
    "## https://medium.com/@fanzongshaoxing/adjust-local-brightness-for-image-augmentation-8111c001059b\n",
    "def generate_spot_light_mask(mask_size,\n",
    "                             position=None,\n",
    "                             max_brightness=255,\n",
    "                             min_brightness=0,\n",
    "                             mode=\"gaussian\",\n",
    "                             linear_decay_rate=None,\n",
    "                             speedup=False):\n",
    "    \"\"\"\n",
    "    Generate decayed light mask generated by spot light given position, direction. Multiple spotlights are accepted.\n",
    "    Args:\n",
    "        mask_size: tuple of integers (w, h) defining generated mask size\n",
    "        position: list of tuple of integers (x, y) defining the center of spotlight light position,\n",
    "                  which is the reference point during rotating\n",
    "        max_brightness: integer that max brightness in the mask\n",
    "        min_brightness: integer that min brightness in the mask\n",
    "        mode: the way that brightness decay from max to min: linear or gaussian\n",
    "        linear_decay_rate: only valid in linear_static mode. Suggested value is within [0.2, 2]\n",
    "        speedup: use `shrinkage then expansion` strategy to speed up vale calculation\n",
    "    Return:\n",
    "        light_mask: ndarray in float type consisting value from max_brightness to min_brightness. If in 'linear' mode\n",
    "                    minimum value could be smaller than given min_brightness.\n",
    "    \"\"\"\n",
    "    if position is None:\n",
    "        position = [(random.randint(0, mask_size[0]), random.randint(0, mask_size[1]))]\n",
    "    if linear_decay_rate is None:\n",
    "        if mode == \"linear_static\":\n",
    "            linear_decay_rate = random.uniform(0.25, 1)\n",
    "    assert mode in [\"linear\", \"gaussian\"], \\\n",
    "        \"mode must be linear_dynamic, linear_static or gaussian\"\n",
    "    mask = np.zeros(shape=(mask_size[1], mask_size[0]), dtype=np.float32)\n",
    "    if mode == \"gaussian\":\n",
    "        mu = np.sqrt(mask.shape[0]**2+mask.shape[1]**2)\n",
    "        dev = mu / 3.5\n",
    "        mask = _decay_value_radically_norm_in_matrix(mask_size, position, max_brightness, min_brightness, dev)\n",
    "    mask = np.asarray(mask, dtype=np.uint8)\n",
    "    # add median blur\n",
    "    mask = cv2.medianBlur(mask, 5)\n",
    "    mask = 255 - mask\n",
    "    # cv2.imshow(\"mask\", mask)\n",
    "    # cv2.waitKey(0)\n",
    "    return mask\n",
    "\n",
    "def _decay_value_radically_norm_in_matrix(mask_size, centers, max_value, min_value, dev):\n",
    "    \"\"\"\n",
    "    _decay_value_radically_norm function in matrix format\n",
    "    \"\"\"\n",
    "    center_prob = norm.pdf(0, 0, dev)\n",
    "    x_value_rate = np.zeros((mask_size[1], mask_size[0]))\n",
    "    for center in centers:\n",
    "        coord_x = np.arange(mask_size[0])\n",
    "        coord_y = np.arange(mask_size[1])\n",
    "        xv, yv = np.meshgrid(coord_x, coord_y)\n",
    "        dist_x = xv - center[0]\n",
    "        dist_y = yv - center[1]\n",
    "        dist = np.sqrt(np.power(dist_x, 2) + np.power(dist_y, 2))\n",
    "        x_value_rate += norm.pdf(dist, 0, dev) / center_prob\n",
    "    mask = x_value_rate * (max_value - min_value) + min_value\n",
    "    mask[mask > 255] = 255\n",
    "    return mask\n",
    "\n",
    "\n",
    "\n",
    "def add_spot_light(image, light_position=None, max_brightness=255, min_brightness=0,\n",
    "                   mode='gaussian', linear_decay_rate=None, transparency=None):\n",
    "    \"\"\"\n",
    "    Add mask generated from spot light to given image\n",
    "    \"\"\"\n",
    "    if transparency is None:\n",
    "        transparency = random.uniform(0.2, 0.75)\n",
    "    frame = image\n",
    "    height, width, _ = frame.shape\n",
    "    hsv = cv2.cvtColor(frame, cv2.COLOR_BGR2HSV)\n",
    "    mask = generate_spot_light_mask(mask_size=(width, height),\n",
    "                                    position=light_position,\n",
    "                                    max_brightness=max_brightness,\n",
    "                                    min_brightness=min_brightness,\n",
    "                                    mode=mode,\n",
    "                                    linear_decay_rate=linear_decay_rate)\n",
    "    hsv[:, :, 2] = hsv[:, :, 2] * transparency + mask * (1 - transparency)\n",
    "    frame = cv2.cvtColor(hsv, cv2.COLOR_HSV2BGR)\n",
    "    frame[frame > 255] = 255\n",
    "    frame = np.asarray(frame, dtype=np.uint8)\n",
    "    return frame\n",
    "\n",
    "\n",
    "\n",
    "def invert(imagem):\n",
    "    if (random.getrandbits(1)):\n",
    "        return (255)-imagem\n",
    "    else:\n",
    "        return imagem\n",
    "\n",
    "def blur(img):\n",
    "    k = random.randint(0,3)\n",
    "    if (k>0):\n",
    "        return (cv2.blur(img,(3,3)))\n",
    "    else:\n",
    "        return img\n",
    "\n",
    "def preprocessing(img):\n",
    "    #if (random.getrandbits(1)):\n",
    "    #    img = blur(img)\n",
    "    if (random.getrandbits(1)):\n",
    "        img = add_spot_light(img).astype(np.float32)\n",
    "    img = invert(img)\n",
    "    img = add_noise(img)\n",
    "    \n",
    "    return img\n",
    "\n",
    "\n",
    "\n",
    "Width_Shift_Range = 3 # px\n",
    "Height_Shift_Range = 0 # px\n",
    "Brightness_Range = [0.4,1.2]\n",
    "Rotation_Angle = 5\n",
    "ZoomRange_Out = 0.1\n",
    "ZoomRange_In = 0.1\n",
    "ShearRange= 3\n",
    "Channel_Shift=0.4\n",
    "\n",
    "\n",
    "def augmentation(x, y, Batch_Size = 32):\n",
    "    datagen = ImageDataGenerator(width_shift_range=Width_Shift_Range, \n",
    "                             height_shift_range=Height_Shift_Range,\n",
    "                             brightness_range=Brightness_Range,\n",
    "                             #zoom_range=[1-ZoomRange_In, 1+ZoomRange_Out],\n",
    "                             rotation_range=Rotation_Angle,\n",
    "                             channel_shift_range=Channel_Shift,\n",
    "                             fill_mode='nearest',\n",
    "                             shear_range=ShearRange\n",
    "                             ,preprocessing_function=preprocessing\n",
    "                             ,dtype=float)\n",
    "    #datagen.fit(x)\n",
    "    return datagen.flow(x, y, batch_size=Batch_Size)\n",
    "    \n",
    "def no_augmentation(x, y, Batch_Size = 32):\n",
    "    datagen = ImageDataGenerator(dtype=float)\n",
    "    return datagen.flow(x, y, batch_size=Batch_Size)\n"
   ]
  },
  {
   "cell_type": "markdown",
   "id": "0cce3e47",
   "metadata": {
    "papermill": {
     "duration": 0.021701,
     "end_time": "2022-05-05T11:24:13.741855",
     "exception": false,
     "start_time": "2022-05-05T11:24:13.720154",
     "status": "completed"
    },
    "tags": []
   },
   "source": [
    "#### Plot functions\n",
    "\n",
    "Various plot functions for image plottings and loss/accuracy plots"
   ]
  },
  {
   "cell_type": "code",
   "execution_count": 4,
   "id": "2f6420fe",
   "metadata": {
    "execution": {
     "iopub.execute_input": "2022-05-05T11:24:13.784618Z",
     "iopub.status.busy": "2022-05-05T11:24:13.784220Z",
     "iopub.status.idle": "2022-05-05T11:24:13.806876Z",
     "shell.execute_reply": "2022-05-05T11:24:13.805900Z"
    },
    "papermill": {
     "duration": 0.047243,
     "end_time": "2022-05-05T11:24:13.809343",
     "exception": false,
     "start_time": "2022-05-05T11:24:13.762100",
     "status": "completed"
    },
    "tags": []
   },
   "outputs": [],
   "source": [
    "import matplotlib.pyplot as plt\n",
    "import numpy as np\n",
    "import pandas as pd\n",
    "def plot_dataset(images, labels, columns=10, rows=5, figsize=(18, 10)):\n",
    "\n",
    "    fig = plt.figure(figsize=figsize)\n",
    "    \n",
    "    for i in range(1, columns*rows +1):\n",
    "        if (i>len(labels)):\n",
    "            break\n",
    "        fig.add_subplot(rows, columns, i)\n",
    "        plt.title(labels[i-1])  # set title\n",
    "        plt.xticks([0.2, 0.4, 0.6, 0.8])\n",
    "        plt.imshow((images[i-1]).astype(np.uint8), aspect='1.6', extent=[0, 1, 0, 1])\n",
    "        # yellow lines\n",
    "        for y in np.arange(0.2, 0.8, 0.2):\n",
    "            plt.axhline(y=y,color='yellow')\n",
    "        ax=plt.gca()\n",
    "        ax.get_xaxis().set_visible(False) \n",
    "        plt.tight_layout()\n",
    "    plt.show()\n",
    "\n",
    "def plot_dataset_it(data_iter, columns=9, rows=5):\n",
    "\n",
    "    fig = plt.figure(figsize=(18, 11))\n",
    "    \n",
    "    for i in range(1, columns*rows +1):\n",
    "        img, label = data_iter.next()\n",
    "        fig.add_subplot(rows, columns, i)\n",
    "        plt.xticks([0.2, 0.4, 0.6, 0.8])\n",
    "        plt.title(str(class_decoding(label[0].reshape(-1, nb_classes), nb_classes).reshape(-1)[0]))  # set title\n",
    "        plt.imshow(img[0].astype(np.uint8), aspect='1.6', extent=[0, 1, 0, 1])\n",
    "        ax=plt.gca()\n",
    "        ax.get_xaxis().set_visible(False) \n",
    "        # yellow lines\n",
    "        for y in np.arange(0.2, 0.8, 0.2):\n",
    "                plt.axhline(y=y,color='yellow')\n",
    "    plt.show()\n",
    "\n",
    "def plot_acc_loss(history, modelname=\"modelname\"):\n",
    "    fig, (ax1, ax2) = plt.subplots(1, 2)\n",
    "    fig.suptitle(modelname)\n",
    "    fig.set_figwidth(15)\n",
    "\n",
    "    if \"loss\" in history.history:\n",
    "        ax1.plot(history.history['loss'])\n",
    "    if \"accuracy\" in history.history:\n",
    "        ax2.plot(history.history['accuracy'])\n",
    "    if \"val_loss\" in history.history:\n",
    "        ax1.plot(history.history['val_loss'])\n",
    "    if \"val_accuracy\" in history.history:\n",
    "        ax2.plot(history.history['val_accuracy'])\n",
    "    if \"student_loss\" in history.history:\n",
    "        ax1.plot(history.history['student_loss'])\n",
    "    if \"sparse_categorical_accuracy\" in history.history:\n",
    "        ax2.plot(history.history['sparse_categorical_accuracy'])\n",
    "    if \"val_sparse_categorical_accuracy\" in history.history:\n",
    "        ax2.plot(history.history['val_sparse_categorical_accuracy'])\n",
    "    if \"student_accuracy\" in history.history:\n",
    "        ax2.plot(history.history['student_accuracy'])\n",
    "    if \"val_student_accuracy\" in history.history:\n",
    "        ax2.plot(history.history['val_student_accuracy'])\n",
    "    if \"distillation_loss\" in history.history:\n",
    "        ax1.plot(history.history['distillation_loss'])\n",
    "\n",
    "    ax1.set_title('model loss')\n",
    "    ax1.set_ylabel('loss')\n",
    "    ax1.set_xlabel('epoch')\n",
    "    ax2.set_ylabel('accuracy')\n",
    "    ax2.set_xlabel('epoch')\n",
    "    ax1.legend(['train','eval'], loc='upper left')\n",
    "    axes = plt.gca()\n",
    "    axes.set_ylim([0.92,1])\n",
    "    plt.show()\n",
    "\n",
    "\n",
    "def plot_divergence(divergationset, title1, nb_classes):\n",
    "    fig = plt.figure(figsize=(40, 10))\n",
    "    fig.suptitle(title1)\n",
    "    plt.bar(np.arange (0, nb_classes/10, 0.1), divergationset, width=0.09, align='center')\n",
    "    plt.ylabel('count')\n",
    "    plt.xlabel('digit class')\n",
    "    plt.xticks(np.arange(0, nb_classes/10, 0.1))\n",
    "    return fig\n",
    "\n",
    "\n",
    "def confusion_matrix(predicted, y_test, nb_classes):\n",
    "    ytrue = pd.Series(y_test.reshape(-1), name = 'actual')\n",
    "    ypred = pd.Series(predicted.reshape(-1), name = 'pred')\n",
    "    pd.set_option('display.max_columns', None)\n",
    "    pd.set_option('display.max_rows', None)\n",
    "    pd.set_option('display.expand_frame_repr', False)\n",
    "    pd.set_option('max_colwidth', None)\n",
    "    return pd.crosstab(ytrue, ypred)\n",
    "\n",
    "\n",
    "def predict_meter_digits():\n",
    "    import numpy as np\n",
    "    from tensorflow import keras\n",
    "\n",
    "    max_delta = 0.11\n",
    "\n",
    "    predictions = class_decoding(model.predict(xz_data.astype(np.float32)), 100).reshape(-1)\n",
    "\n",
    "    # 9.9 <> 0 = 0.1 and 1.1 <> 1.2 = 0.1\n",
    "    differences = np.minimum(np.abs(predictions-yz_data), np.abs(predictions-(10-yz_data)))\n",
    "\n",
    "    # used for filtering\n",
    "    false_differences = differences>max_delta\n",
    "\n",
    "    # only differences bigger than delta. so small differences can be ignored in early stages\n",
    "    false_predicted = differences[false_differences]\n",
    "    false_images = xz_data[false_differences]\n",
    "    false_labels = [ \"Expected: \" + str(y) + \"\\n Predicted: \" + str(p) + \"\\n\" + str(f)[-26:-4] for y, p, f in zip(yz_data[false_differences], predictions[false_differences], fz_data[false_differences])]\n",
    "\n",
    "    print(f\"Tested images: {len(yz_data)}. {len(false_predicted)} false predicted. Accuracy is: {1-len(false_predicted)/len(yz_data)}\")\n",
    "\n",
    "    # plot the differences (max difference can only be 5.0)\n",
    "    plot_divergence(np.bincount(np.array(false_predicted*10).astype(int), minlength=51), \"Divergation of false predicted\", 51)\n",
    "\n",
    "    # plot the false predicted images\n",
    "    plot_dataset(np.array(false_images), false_labels, columns=7, rows=7, figsize=(18,18))"
   ]
  },
  {
   "cell_type": "markdown",
   "id": "dd9681f3",
   "metadata": {
    "papermill": {
     "duration": 0.020039,
     "end_time": "2022-05-05T11:24:13.849832",
     "exception": false,
     "start_time": "2022-05-05T11:24:13.829793",
     "status": "completed"
    },
    "tags": []
   },
   "source": [
    "#### Data loading function TMNIST\n",
    "\n",
    "The Type face MNIST dataset comes from kaggle and is processed for percental digits. \n",
    "\n",
    "The complete dataset has 300.000 images. Some fonts are not good for train the meter digits and will be removed by blacklist entries."
   ]
  },
  {
   "cell_type": "code",
   "execution_count": 5,
   "id": "69963054",
   "metadata": {
    "execution": {
     "iopub.execute_input": "2022-05-05T11:24:13.892489Z",
     "iopub.status.busy": "2022-05-05T11:24:13.892138Z",
     "iopub.status.idle": "2022-05-05T11:24:14.012807Z",
     "shell.execute_reply": "2022-05-05T11:24:14.011477Z"
    },
    "jupyter": {
     "source_hidden": true
    },
    "papermill": {
     "duration": 0.145512,
     "end_time": "2022-05-05T11:24:14.015594",
     "exception": false,
     "start_time": "2022-05-05T11:24:13.870082",
     "status": "completed"
    },
    "tags": []
   },
   "outputs": [],
   "source": [
    "import tensorflow as tf\n",
    "import numpy as np\n",
    "import pandas as pd\n",
    "from sklearn.utils import shuffle\n",
    "\n",
    "def tmnist_percentals():\n",
    "    y_train = np.empty((0))\n",
    "    x_train = np.empty((0, 32, 20,3))\n",
    "    \n",
    "    # fonts in blacklist will be removed from dataset\n",
    "    blacklist_url = \"datasets/font-blacklist.txt\"\n",
    "    blacklist_data = pd.read_csv(blacklist_url, index_col=False)\n",
    "    \n",
    "    for i in range(28):\n",
    "\n",
    "        dataset_url = \"datasets/TMNIST_PERCENTAL_\"+str((i+1)*1000)+\"_Data.csv\"\n",
    "        data = pd.read_csv(dataset_url, index_col=False)\n",
    "        data = data.drop(data[data['names'].isin(blacklist_data.values.reshape(-1))].index)\n",
    "        \n",
    "        y_tmnist = data[['labels']]\n",
    "        \n",
    "        X = data.drop({'labels','names'},axis=1)\n",
    "\n",
    "        # resizing needs a new shape\n",
    "        X_images = (X.values.reshape(-1,28,28,1))\n",
    "        \n",
    "        # resize but not all for padding\n",
    "        X_images = tf.image.resize(X_images, (30,22))\n",
    "        \n",
    "        # now pad to make a border (later white)\n",
    "        # so it looks more like a meter digit\n",
    "        X_images = tf.image.resize_with_pad(X_images, 32, 20)\n",
    "        \n",
    "        # remove the shape for resizing\n",
    "        X_images = np.array(X_images).reshape(-1,32,20)\n",
    "        # gray to rgb (split in 3 channels)\n",
    "        X_images = np.stack((X_images,)*3, axis=-1)\n",
    "        \n",
    "        x_train = np.concatenate((X_images, x_train))\n",
    "        y_train = np.concatenate((y_tmnist.values.reshape(-1), y_train))\n",
    "    \n",
    "    return shuffle(x_train,  y_train, n_samples=len(y_train))\n",
    "\n"
   ]
  },
  {
   "cell_type": "code",
   "execution_count": 6,
   "id": "98dfef71",
   "metadata": {},
   "outputs": [],
   "source": [
    "import os\n",
    "import shutil\n",
    "from PIL import Image \n",
    "from tensorflow import keras\n",
    "\n",
    "def ziffer_data_files(input_dir):\n",
    "    imgfiles = []\n",
    "    for root, dirs, files in os.walk(input_dir):\n",
    "        for file in files:\n",
    "            if (file.endswith(\".jpg\") and not file.startswith(\"10_\") and not file.startswith(\"N\")):\n",
    "                #print(root + \"/\" + file)\n",
    "                imgfiles.append(root + \"/\" + file)\n",
    "    return  imgfiles\n",
    "\n",
    "def ziffer_data(input_dir='images'):\n",
    "    \n",
    "    files = ziffer_data_files(input_dir)\n",
    "    \n",
    "    y_data = np.empty((len(files)))\n",
    "    y_file = np.empty((len(files)), dtype=\"S100\")\n",
    "    x_data = np.empty((len(files),32,20,3))\n",
    "\n",
    "    for i, aktfile in enumerate(files):\n",
    "        base = os.path.basename(aktfile)\n",
    "\n",
    "        # get label from filename (1.2_ new or 1_ old),\n",
    "        if (base[1]==\".\"):\n",
    "            target = base[0:3]\n",
    "        else:\n",
    "            target = base[0:1]\n",
    "         \n",
    "        category = float(target)\n",
    "        \n",
    "        test_image = Image.open(aktfile).resize((20, 32))\n",
    "        test_image = np.array(test_image, dtype=\"float32\")\n",
    "        y_file[i] =  base\n",
    "        x_data[i] = test_image\n",
    "        y_data[i] =  category\n",
    "    print(\"Ziffer data count: \", len(y_data))   \n",
    "    return x_data, y_data, y_file\n"
   ]
  },
  {
   "cell_type": "markdown",
   "id": "18b907a8",
   "metadata": {
    "papermill": {
     "duration": 0.021993,
     "end_time": "2022-05-05T11:24:14.058821",
     "exception": false,
     "start_time": "2022-05-05T11:24:14.036828",
     "status": "completed"
    },
    "tags": []
   },
   "source": [
    "#### "
   ]
  },
  {
   "cell_type": "markdown",
   "id": "a266a8c9",
   "metadata": {
    "papermill": {
     "duration": 0.020231,
     "end_time": "2022-05-05T11:24:14.149547",
     "exception": false,
     "start_time": "2022-05-05T11:24:14.129316",
     "status": "completed"
    },
    "tags": []
   },
   "source": [
    "### Load data\n",
    "\n",
    "Like the distillation network meter digits will be trained with font builded images.\n",
    "\n",
    "The meter digits are all 0-9 ziffer_raw + my own data 0-9. \n",
    "At now no images used between two digits. Many images from 0-9 are +/- 0.2 devergent and not correctly labeled. (See the last result)"
   ]
  },
  {
   "cell_type": "code",
   "execution_count": 7,
   "id": "59432adc",
   "metadata": {
    "execution": {
     "iopub.execute_input": "2022-05-05T11:24:14.192798Z",
     "iopub.status.busy": "2022-05-05T11:24:14.192455Z",
     "iopub.status.idle": "2022-05-05T11:25:35.224756Z",
     "shell.execute_reply": "2022-05-05T11:25:35.223824Z"
    },
    "papermill": {
     "duration": 81.057792,
     "end_time": "2022-05-05T11:25:35.227814",
     "exception": false,
     "start_time": "2022-05-05T11:24:14.170022",
     "status": "completed"
    },
    "tags": []
   },
   "outputs": [
    {
     "name": "stdout",
     "output_type": "stream",
     "text": [
      "Ziffer data count:  9134\n",
      "Metal device set to: Apple M1 Pro\n"
     ]
    },
    {
     "name": "stderr",
     "output_type": "stream",
     "text": [
      "2022-06-07 22:24:31.257471: I tensorflow/core/common_runtime/pluggable_device/pluggable_device_factory.cc:305] Could not identify NUMA node of platform GPU ID 0, defaulting to 0. Your kernel may not have been built with NUMA support.\n",
      "2022-06-07 22:24:31.257599: I tensorflow/core/common_runtime/pluggable_device/pluggable_device_factory.cc:271] Created TensorFlow device (/job:localhost/replica:0/task:0/device:GPU:0 with 0 MB memory) -> physical PluggableDevice (device: 0, name: METAL, pci bus id: <undefined>)\n"
     ]
    },
    {
     "name": "stdout",
     "output_type": "stream",
     "text": [
      "(221989, 32, 20, 3)\n",
      "dataset x_train-size=221989\n"
     ]
    },
    {
     "ename": "KeyboardInterrupt",
     "evalue": "",
     "output_type": "error",
     "traceback": [
      "\u001b[0;31m---------------------------------------------------------------------------\u001b[0m",
      "\u001b[0;31mKeyboardInterrupt\u001b[0m                         Traceback (most recent call last)",
      "Input \u001b[0;32mIn [7]\u001b[0m, in \u001b[0;36m<cell line: 28>\u001b[0;34m()\u001b[0m\n\u001b[1;32m     26\u001b[0m input_shape\u001b[38;5;241m=\u001b[39mx_train[\u001b[38;5;241m0\u001b[39m]\u001b[38;5;241m.\u001b[39mshape\n\u001b[1;32m     27\u001b[0m \u001b[38;5;28mprint\u001b[39m(\u001b[38;5;124mf\u001b[39m\u001b[38;5;124m\"\u001b[39m\u001b[38;5;124mdataset x_train-size=\u001b[39m\u001b[38;5;132;01m{\u001b[39;00m\u001b[38;5;28mlen\u001b[39m(x_train)\u001b[38;5;132;01m}\u001b[39;00m\u001b[38;5;124m\"\u001b[39m)\n\u001b[0;32m---> 28\u001b[0m \u001b[43mplot_dataset\u001b[49m\u001b[43m(\u001b[49m\u001b[43mx_train\u001b[49m\u001b[43m,\u001b[49m\u001b[43m \u001b[49m\u001b[43my_train\u001b[49m\u001b[43m)\u001b[49m\n\u001b[1;32m     30\u001b[0m y_train \u001b[38;5;241m=\u001b[39m class_encoding(y_train, nb_classes)\n\u001b[1;32m     31\u001b[0m y_test \u001b[38;5;241m=\u001b[39m class_encoding(y_test, nb_classes)\n",
      "Input \u001b[0;32mIn [4]\u001b[0m, in \u001b[0;36mplot_dataset\u001b[0;34m(images, labels, columns, rows, figsize)\u001b[0m\n\u001b[1;32m     18\u001b[0m     ax\u001b[38;5;241m=\u001b[39mplt\u001b[38;5;241m.\u001b[39mgca()\n\u001b[1;32m     19\u001b[0m     ax\u001b[38;5;241m.\u001b[39mget_xaxis()\u001b[38;5;241m.\u001b[39mset_visible(\u001b[38;5;28;01mFalse\u001b[39;00m) \n\u001b[0;32m---> 20\u001b[0m     \u001b[43mplt\u001b[49m\u001b[38;5;241;43m.\u001b[39;49m\u001b[43mtight_layout\u001b[49m\u001b[43m(\u001b[49m\u001b[43m)\u001b[49m\n\u001b[1;32m     21\u001b[0m plt\u001b[38;5;241m.\u001b[39mshow()\n",
      "File \u001b[0;32m/opt/homebrew/Caskroom/miniforge/base/envs/mlp/lib/python3.9/site-packages/matplotlib/pyplot.py:2314\u001b[0m, in \u001b[0;36mtight_layout\u001b[0;34m(pad, h_pad, w_pad, rect)\u001b[0m\n\u001b[1;32m   2312\u001b[0m \u001b[38;5;129m@_copy_docstring_and_deprecators\u001b[39m(Figure\u001b[38;5;241m.\u001b[39mtight_layout)\n\u001b[1;32m   2313\u001b[0m \u001b[38;5;28;01mdef\u001b[39;00m \u001b[38;5;21mtight_layout\u001b[39m(\u001b[38;5;241m*\u001b[39m, pad\u001b[38;5;241m=\u001b[39m\u001b[38;5;241m1.08\u001b[39m, h_pad\u001b[38;5;241m=\u001b[39m\u001b[38;5;28;01mNone\u001b[39;00m, w_pad\u001b[38;5;241m=\u001b[39m\u001b[38;5;28;01mNone\u001b[39;00m, rect\u001b[38;5;241m=\u001b[39m\u001b[38;5;28;01mNone\u001b[39;00m):\n\u001b[0;32m-> 2314\u001b[0m     \u001b[38;5;28;01mreturn\u001b[39;00m \u001b[43mgcf\u001b[49m\u001b[43m(\u001b[49m\u001b[43m)\u001b[49m\u001b[38;5;241;43m.\u001b[39;49m\u001b[43mtight_layout\u001b[49m\u001b[43m(\u001b[49m\u001b[43mpad\u001b[49m\u001b[38;5;241;43m=\u001b[39;49m\u001b[43mpad\u001b[49m\u001b[43m,\u001b[49m\u001b[43m \u001b[49m\u001b[43mh_pad\u001b[49m\u001b[38;5;241;43m=\u001b[39;49m\u001b[43mh_pad\u001b[49m\u001b[43m,\u001b[49m\u001b[43m \u001b[49m\u001b[43mw_pad\u001b[49m\u001b[38;5;241;43m=\u001b[39;49m\u001b[43mw_pad\u001b[49m\u001b[43m,\u001b[49m\u001b[43m \u001b[49m\u001b[43mrect\u001b[49m\u001b[38;5;241;43m=\u001b[39;49m\u001b[43mrect\u001b[49m\u001b[43m)\u001b[49m\n",
      "File \u001b[0;32m/opt/homebrew/Caskroom/miniforge/base/envs/mlp/lib/python3.9/site-packages/matplotlib/figure.py:3224\u001b[0m, in \u001b[0;36mFigure.tight_layout\u001b[0;34m(self, pad, h_pad, w_pad, rect)\u001b[0m\n\u001b[1;32m   3222\u001b[0m renderer \u001b[38;5;241m=\u001b[39m get_renderer(\u001b[38;5;28mself\u001b[39m)\n\u001b[1;32m   3223\u001b[0m \u001b[38;5;28;01mwith\u001b[39;00m \u001b[38;5;28mgetattr\u001b[39m(renderer, \u001b[38;5;124m\"\u001b[39m\u001b[38;5;124m_draw_disabled\u001b[39m\u001b[38;5;124m\"\u001b[39m, nullcontext)():\n\u001b[0;32m-> 3224\u001b[0m     kwargs \u001b[38;5;241m=\u001b[39m \u001b[43mget_tight_layout_figure\u001b[49m\u001b[43m(\u001b[49m\n\u001b[1;32m   3225\u001b[0m \u001b[43m        \u001b[49m\u001b[38;5;28;43mself\u001b[39;49m\u001b[43m,\u001b[49m\u001b[43m \u001b[49m\u001b[38;5;28;43mself\u001b[39;49m\u001b[38;5;241;43m.\u001b[39;49m\u001b[43maxes\u001b[49m\u001b[43m,\u001b[49m\u001b[43m \u001b[49m\u001b[43msubplotspec_list\u001b[49m\u001b[43m,\u001b[49m\u001b[43m \u001b[49m\u001b[43mrenderer\u001b[49m\u001b[43m,\u001b[49m\n\u001b[1;32m   3226\u001b[0m \u001b[43m        \u001b[49m\u001b[43mpad\u001b[49m\u001b[38;5;241;43m=\u001b[39;49m\u001b[43mpad\u001b[49m\u001b[43m,\u001b[49m\u001b[43m \u001b[49m\u001b[43mh_pad\u001b[49m\u001b[38;5;241;43m=\u001b[39;49m\u001b[43mh_pad\u001b[49m\u001b[43m,\u001b[49m\u001b[43m \u001b[49m\u001b[43mw_pad\u001b[49m\u001b[38;5;241;43m=\u001b[39;49m\u001b[43mw_pad\u001b[49m\u001b[43m,\u001b[49m\u001b[43m \u001b[49m\u001b[43mrect\u001b[49m\u001b[38;5;241;43m=\u001b[39;49m\u001b[43mrect\u001b[49m\u001b[43m)\u001b[49m\n\u001b[1;32m   3227\u001b[0m \u001b[38;5;28;01mif\u001b[39;00m kwargs:\n\u001b[1;32m   3228\u001b[0m     \u001b[38;5;28mself\u001b[39m\u001b[38;5;241m.\u001b[39msubplots_adjust(\u001b[38;5;241m*\u001b[39m\u001b[38;5;241m*\u001b[39mkwargs)\n",
      "File \u001b[0;32m/opt/homebrew/Caskroom/miniforge/base/envs/mlp/lib/python3.9/site-packages/matplotlib/tight_layout.py:320\u001b[0m, in \u001b[0;36mget_tight_layout_figure\u001b[0;34m(fig, axes_list, subplotspec_list, renderer, pad, h_pad, w_pad, rect)\u001b[0m\n\u001b[1;32m    315\u001b[0m         \u001b[38;5;28;01mreturn\u001b[39;00m {}\n\u001b[1;32m    316\u001b[0m     span_pairs\u001b[38;5;241m.\u001b[39mappend((\n\u001b[1;32m    317\u001b[0m         \u001b[38;5;28mslice\u001b[39m(ss\u001b[38;5;241m.\u001b[39mrowspan\u001b[38;5;241m.\u001b[39mstart \u001b[38;5;241m*\u001b[39m div_row, ss\u001b[38;5;241m.\u001b[39mrowspan\u001b[38;5;241m.\u001b[39mstop \u001b[38;5;241m*\u001b[39m div_row),\n\u001b[1;32m    318\u001b[0m         \u001b[38;5;28mslice\u001b[39m(ss\u001b[38;5;241m.\u001b[39mcolspan\u001b[38;5;241m.\u001b[39mstart \u001b[38;5;241m*\u001b[39m div_col, ss\u001b[38;5;241m.\u001b[39mcolspan\u001b[38;5;241m.\u001b[39mstop \u001b[38;5;241m*\u001b[39m div_col)))\n\u001b[0;32m--> 320\u001b[0m kwargs \u001b[38;5;241m=\u001b[39m \u001b[43m_auto_adjust_subplotpars\u001b[49m\u001b[43m(\u001b[49m\u001b[43mfig\u001b[49m\u001b[43m,\u001b[49m\u001b[43m \u001b[49m\u001b[43mrenderer\u001b[49m\u001b[43m,\u001b[49m\n\u001b[1;32m    321\u001b[0m \u001b[43m                                  \u001b[49m\u001b[43mshape\u001b[49m\u001b[38;5;241;43m=\u001b[39;49m\u001b[43m(\u001b[49m\u001b[43mmax_nrows\u001b[49m\u001b[43m,\u001b[49m\u001b[43m \u001b[49m\u001b[43mmax_ncols\u001b[49m\u001b[43m)\u001b[49m\u001b[43m,\u001b[49m\n\u001b[1;32m    322\u001b[0m \u001b[43m                                  \u001b[49m\u001b[43mspan_pairs\u001b[49m\u001b[38;5;241;43m=\u001b[39;49m\u001b[43mspan_pairs\u001b[49m\u001b[43m,\u001b[49m\n\u001b[1;32m    323\u001b[0m \u001b[43m                                  \u001b[49m\u001b[43msubplot_list\u001b[49m\u001b[38;5;241;43m=\u001b[39;49m\u001b[43msubplot_list\u001b[49m\u001b[43m,\u001b[49m\n\u001b[1;32m    324\u001b[0m \u001b[43m                                  \u001b[49m\u001b[43max_bbox_list\u001b[49m\u001b[38;5;241;43m=\u001b[39;49m\u001b[43max_bbox_list\u001b[49m\u001b[43m,\u001b[49m\n\u001b[1;32m    325\u001b[0m \u001b[43m                                  \u001b[49m\u001b[43mpad\u001b[49m\u001b[38;5;241;43m=\u001b[39;49m\u001b[43mpad\u001b[49m\u001b[43m,\u001b[49m\u001b[43m \u001b[49m\u001b[43mh_pad\u001b[49m\u001b[38;5;241;43m=\u001b[39;49m\u001b[43mh_pad\u001b[49m\u001b[43m,\u001b[49m\u001b[43m \u001b[49m\u001b[43mw_pad\u001b[49m\u001b[38;5;241;43m=\u001b[39;49m\u001b[43mw_pad\u001b[49m\u001b[43m)\u001b[49m\n\u001b[1;32m    327\u001b[0m \u001b[38;5;66;03m# kwargs can be none if tight_layout fails...\u001b[39;00m\n\u001b[1;32m    328\u001b[0m \u001b[38;5;28;01mif\u001b[39;00m rect \u001b[38;5;129;01mis\u001b[39;00m \u001b[38;5;129;01mnot\u001b[39;00m \u001b[38;5;28;01mNone\u001b[39;00m \u001b[38;5;129;01mand\u001b[39;00m kwargs \u001b[38;5;129;01mis\u001b[39;00m \u001b[38;5;129;01mnot\u001b[39;00m \u001b[38;5;28;01mNone\u001b[39;00m:\n\u001b[1;32m    329\u001b[0m     \u001b[38;5;66;03m# if rect is given, the whole subplots area (including\u001b[39;00m\n\u001b[1;32m    330\u001b[0m     \u001b[38;5;66;03m# labels) will fit into the rect instead of the\u001b[39;00m\n\u001b[0;32m   (...)\u001b[0m\n\u001b[1;32m    334\u001b[0m     \u001b[38;5;66;03m# auto_adjust_subplotpars twice, where the second run\u001b[39;00m\n\u001b[1;32m    335\u001b[0m     \u001b[38;5;66;03m# with adjusted rect parameters.\u001b[39;00m\n",
      "File \u001b[0;32m/opt/homebrew/Caskroom/miniforge/base/envs/mlp/lib/python3.9/site-packages/matplotlib/tight_layout.py:82\u001b[0m, in \u001b[0;36m_auto_adjust_subplotpars\u001b[0;34m(fig, renderer, shape, span_pairs, subplot_list, ax_bbox_list, pad, h_pad, w_pad, rect)\u001b[0m\n\u001b[1;32m     80\u001b[0m \u001b[38;5;28;01mif\u001b[39;00m ax\u001b[38;5;241m.\u001b[39mget_visible():\n\u001b[1;32m     81\u001b[0m     \u001b[38;5;28;01mtry\u001b[39;00m:\n\u001b[0;32m---> 82\u001b[0m         bb \u001b[38;5;241m+\u001b[39m\u001b[38;5;241m=\u001b[39m [\u001b[43max\u001b[49m\u001b[38;5;241;43m.\u001b[39;49m\u001b[43mget_tightbbox\u001b[49m\u001b[43m(\u001b[49m\u001b[43mrenderer\u001b[49m\u001b[43m,\u001b[49m\u001b[43m \u001b[49m\u001b[43mfor_layout_only\u001b[49m\u001b[38;5;241;43m=\u001b[39;49m\u001b[38;5;28;43;01mTrue\u001b[39;49;00m\u001b[43m)\u001b[49m]\n\u001b[1;32m     83\u001b[0m     \u001b[38;5;28;01mexcept\u001b[39;00m \u001b[38;5;167;01mTypeError\u001b[39;00m:\n\u001b[1;32m     84\u001b[0m         bb \u001b[38;5;241m+\u001b[39m\u001b[38;5;241m=\u001b[39m [ax\u001b[38;5;241m.\u001b[39mget_tightbbox(renderer)]\n",
      "File \u001b[0;32m/opt/homebrew/Caskroom/miniforge/base/envs/mlp/lib/python3.9/site-packages/matplotlib/axes/_base.py:4637\u001b[0m, in \u001b[0;36m_AxesBase.get_tightbbox\u001b[0;34m(self, renderer, call_axes_locator, bbox_extra_artists, for_layout_only)\u001b[0m\n\u001b[1;32m   4635\u001b[0m \u001b[38;5;28;01mif\u001b[39;00m \u001b[38;5;28mself\u001b[39m\u001b[38;5;241m.\u001b[39myaxis\u001b[38;5;241m.\u001b[39mget_visible():\n\u001b[1;32m   4636\u001b[0m     \u001b[38;5;28;01mtry\u001b[39;00m:\n\u001b[0;32m-> 4637\u001b[0m         bb_yaxis \u001b[38;5;241m=\u001b[39m \u001b[38;5;28;43mself\u001b[39;49m\u001b[38;5;241;43m.\u001b[39;49m\u001b[43myaxis\u001b[49m\u001b[38;5;241;43m.\u001b[39;49m\u001b[43mget_tightbbox\u001b[49m\u001b[43m(\u001b[49m\n\u001b[1;32m   4638\u001b[0m \u001b[43m            \u001b[49m\u001b[43mrenderer\u001b[49m\u001b[43m,\u001b[49m\u001b[43m \u001b[49m\u001b[43mfor_layout_only\u001b[49m\u001b[38;5;241;43m=\u001b[39;49m\u001b[43mfor_layout_only\u001b[49m\u001b[43m)\u001b[49m\n\u001b[1;32m   4639\u001b[0m     \u001b[38;5;28;01mexcept\u001b[39;00m \u001b[38;5;167;01mTypeError\u001b[39;00m:\n\u001b[1;32m   4640\u001b[0m         \u001b[38;5;66;03m# in case downstream library has redefined axis:\u001b[39;00m\n\u001b[1;32m   4641\u001b[0m         bb_yaxis \u001b[38;5;241m=\u001b[39m \u001b[38;5;28mself\u001b[39m\u001b[38;5;241m.\u001b[39myaxis\u001b[38;5;241m.\u001b[39mget_tightbbox(renderer)\n",
      "File \u001b[0;32m/opt/homebrew/Caskroom/miniforge/base/envs/mlp/lib/python3.9/site-packages/matplotlib/axis.py:1138\u001b[0m, in \u001b[0;36mAxis.get_tightbbox\u001b[0;34m(self, renderer, for_layout_only)\u001b[0m\n\u001b[1;32m   1135\u001b[0m bboxes \u001b[38;5;241m=\u001b[39m [b \u001b[38;5;28;01mfor\u001b[39;00m b \u001b[38;5;129;01min\u001b[39;00m bboxes\n\u001b[1;32m   1136\u001b[0m           \u001b[38;5;28;01mif\u001b[39;00m \u001b[38;5;241m0\u001b[39m \u001b[38;5;241m<\u001b[39m b\u001b[38;5;241m.\u001b[39mwidth \u001b[38;5;241m<\u001b[39m np\u001b[38;5;241m.\u001b[39minf \u001b[38;5;129;01mand\u001b[39;00m \u001b[38;5;241m0\u001b[39m \u001b[38;5;241m<\u001b[39m b\u001b[38;5;241m.\u001b[39mheight \u001b[38;5;241m<\u001b[39m np\u001b[38;5;241m.\u001b[39minf]\n\u001b[1;32m   1137\u001b[0m \u001b[38;5;28;01mif\u001b[39;00m bboxes:\n\u001b[0;32m-> 1138\u001b[0m     \u001b[38;5;28;01mreturn\u001b[39;00m \u001b[43mmtransforms\u001b[49m\u001b[38;5;241;43m.\u001b[39;49m\u001b[43mBbox\u001b[49m\u001b[38;5;241;43m.\u001b[39;49m\u001b[43munion\u001b[49m\u001b[43m(\u001b[49m\u001b[43mbboxes\u001b[49m\u001b[43m)\u001b[49m\n\u001b[1;32m   1139\u001b[0m \u001b[38;5;28;01melse\u001b[39;00m:\n\u001b[1;32m   1140\u001b[0m     \u001b[38;5;28;01mreturn\u001b[39;00m \u001b[38;5;28;01mNone\u001b[39;00m\n",
      "File \u001b[0;32m/opt/homebrew/Caskroom/miniforge/base/envs/mlp/lib/python3.9/site-packages/matplotlib/transforms.py:668\u001b[0m, in \u001b[0;36mBboxBase.union\u001b[0;34m(bboxes)\u001b[0m\n\u001b[1;32m    666\u001b[0m     \u001b[38;5;28;01mraise\u001b[39;00m \u001b[38;5;167;01mValueError\u001b[39;00m(\u001b[38;5;124m\"\u001b[39m\u001b[38;5;124m'\u001b[39m\u001b[38;5;124mbboxes\u001b[39m\u001b[38;5;124m'\u001b[39m\u001b[38;5;124m cannot be empty\u001b[39m\u001b[38;5;124m\"\u001b[39m)\n\u001b[1;32m    667\u001b[0m x0 \u001b[38;5;241m=\u001b[39m np\u001b[38;5;241m.\u001b[39mmin([bbox\u001b[38;5;241m.\u001b[39mxmin \u001b[38;5;28;01mfor\u001b[39;00m bbox \u001b[38;5;129;01min\u001b[39;00m bboxes])\n\u001b[0;32m--> 668\u001b[0m x1 \u001b[38;5;241m=\u001b[39m np\u001b[38;5;241m.\u001b[39mmax([bbox\u001b[38;5;241m.\u001b[39mxmax \u001b[38;5;28;01mfor\u001b[39;00m bbox \u001b[38;5;129;01min\u001b[39;00m bboxes])\n\u001b[1;32m    669\u001b[0m y0 \u001b[38;5;241m=\u001b[39m np\u001b[38;5;241m.\u001b[39mmin([bbox\u001b[38;5;241m.\u001b[39mymin \u001b[38;5;28;01mfor\u001b[39;00m bbox \u001b[38;5;129;01min\u001b[39;00m bboxes])\n\u001b[1;32m    670\u001b[0m y1 \u001b[38;5;241m=\u001b[39m np\u001b[38;5;241m.\u001b[39mmax([bbox\u001b[38;5;241m.\u001b[39mymax \u001b[38;5;28;01mfor\u001b[39;00m bbox \u001b[38;5;129;01min\u001b[39;00m bboxes])\n",
      "File \u001b[0;32m/opt/homebrew/Caskroom/miniforge/base/envs/mlp/lib/python3.9/site-packages/matplotlib/transforms.py:668\u001b[0m, in \u001b[0;36m<listcomp>\u001b[0;34m(.0)\u001b[0m\n\u001b[1;32m    666\u001b[0m     \u001b[38;5;28;01mraise\u001b[39;00m \u001b[38;5;167;01mValueError\u001b[39;00m(\u001b[38;5;124m\"\u001b[39m\u001b[38;5;124m'\u001b[39m\u001b[38;5;124mbboxes\u001b[39m\u001b[38;5;124m'\u001b[39m\u001b[38;5;124m cannot be empty\u001b[39m\u001b[38;5;124m\"\u001b[39m)\n\u001b[1;32m    667\u001b[0m x0 \u001b[38;5;241m=\u001b[39m np\u001b[38;5;241m.\u001b[39mmin([bbox\u001b[38;5;241m.\u001b[39mxmin \u001b[38;5;28;01mfor\u001b[39;00m bbox \u001b[38;5;129;01min\u001b[39;00m bboxes])\n\u001b[0;32m--> 668\u001b[0m x1 \u001b[38;5;241m=\u001b[39m np\u001b[38;5;241m.\u001b[39mmax([\u001b[43mbbox\u001b[49m\u001b[38;5;241;43m.\u001b[39;49m\u001b[43mxmax\u001b[49m \u001b[38;5;28;01mfor\u001b[39;00m bbox \u001b[38;5;129;01min\u001b[39;00m bboxes])\n\u001b[1;32m    669\u001b[0m y0 \u001b[38;5;241m=\u001b[39m np\u001b[38;5;241m.\u001b[39mmin([bbox\u001b[38;5;241m.\u001b[39mymin \u001b[38;5;28;01mfor\u001b[39;00m bbox \u001b[38;5;129;01min\u001b[39;00m bboxes])\n\u001b[1;32m    670\u001b[0m y1 \u001b[38;5;241m=\u001b[39m np\u001b[38;5;241m.\u001b[39mmax([bbox\u001b[38;5;241m.\u001b[39mymax \u001b[38;5;28;01mfor\u001b[39;00m bbox \u001b[38;5;129;01min\u001b[39;00m bboxes])\n",
      "File \u001b[0;32m/opt/homebrew/Caskroom/miniforge/base/envs/mlp/lib/python3.9/site-packages/matplotlib/transforms.py:339\u001b[0m, in \u001b[0;36mBboxBase.xmax\u001b[0;34m(self)\u001b[0m\n\u001b[1;32m    336\u001b[0m \u001b[38;5;129m@property\u001b[39m\n\u001b[1;32m    337\u001b[0m \u001b[38;5;28;01mdef\u001b[39;00m \u001b[38;5;21mxmax\u001b[39m(\u001b[38;5;28mself\u001b[39m):\n\u001b[1;32m    338\u001b[0m     \u001b[38;5;124;03m\"\"\"The right edge of the bounding box.\"\"\"\u001b[39;00m\n\u001b[0;32m--> 339\u001b[0m     \u001b[38;5;28;01mreturn\u001b[39;00m \u001b[43mnp\u001b[49m\u001b[38;5;241;43m.\u001b[39;49m\u001b[43mmax\u001b[49m\u001b[43m(\u001b[49m\u001b[38;5;28;43mself\u001b[39;49m\u001b[38;5;241;43m.\u001b[39;49m\u001b[43mget_points\u001b[49m\u001b[43m(\u001b[49m\u001b[43m)\u001b[49m\u001b[43m[\u001b[49m\u001b[43m:\u001b[49m\u001b[43m,\u001b[49m\u001b[43m \u001b[49m\u001b[38;5;241;43m0\u001b[39;49m\u001b[43m]\u001b[49m\u001b[43m)\u001b[49m\n",
      "File \u001b[0;32m<__array_function__ internals>:180\u001b[0m, in \u001b[0;36mamax\u001b[0;34m(*args, **kwargs)\u001b[0m\n",
      "File \u001b[0;32m/opt/homebrew/Caskroom/miniforge/base/envs/mlp/lib/python3.9/site-packages/numpy/core/fromnumeric.py:2791\u001b[0m, in \u001b[0;36mamax\u001b[0;34m(a, axis, out, keepdims, initial, where)\u001b[0m\n\u001b[1;32m   2675\u001b[0m \u001b[38;5;129m@array_function_dispatch\u001b[39m(_amax_dispatcher)\n\u001b[1;32m   2676\u001b[0m \u001b[38;5;28;01mdef\u001b[39;00m \u001b[38;5;21mamax\u001b[39m(a, axis\u001b[38;5;241m=\u001b[39m\u001b[38;5;28;01mNone\u001b[39;00m, out\u001b[38;5;241m=\u001b[39m\u001b[38;5;28;01mNone\u001b[39;00m, keepdims\u001b[38;5;241m=\u001b[39mnp\u001b[38;5;241m.\u001b[39m_NoValue, initial\u001b[38;5;241m=\u001b[39mnp\u001b[38;5;241m.\u001b[39m_NoValue,\n\u001b[1;32m   2677\u001b[0m          where\u001b[38;5;241m=\u001b[39mnp\u001b[38;5;241m.\u001b[39m_NoValue):\n\u001b[1;32m   2678\u001b[0m     \u001b[38;5;124;03m\"\"\"\u001b[39;00m\n\u001b[1;32m   2679\u001b[0m \u001b[38;5;124;03m    Return the maximum of an array or maximum along an axis.\u001b[39;00m\n\u001b[1;32m   2680\u001b[0m \n\u001b[0;32m   (...)\u001b[0m\n\u001b[1;32m   2789\u001b[0m \u001b[38;5;124;03m    5\u001b[39;00m\n\u001b[1;32m   2790\u001b[0m \u001b[38;5;124;03m    \"\"\"\u001b[39;00m\n\u001b[0;32m-> 2791\u001b[0m     \u001b[38;5;28;01mreturn\u001b[39;00m \u001b[43m_wrapreduction\u001b[49m\u001b[43m(\u001b[49m\u001b[43ma\u001b[49m\u001b[43m,\u001b[49m\u001b[43m \u001b[49m\u001b[43mnp\u001b[49m\u001b[38;5;241;43m.\u001b[39;49m\u001b[43mmaximum\u001b[49m\u001b[43m,\u001b[49m\u001b[43m \u001b[49m\u001b[38;5;124;43m'\u001b[39;49m\u001b[38;5;124;43mmax\u001b[39;49m\u001b[38;5;124;43m'\u001b[39;49m\u001b[43m,\u001b[49m\u001b[43m \u001b[49m\u001b[43maxis\u001b[49m\u001b[43m,\u001b[49m\u001b[43m \u001b[49m\u001b[38;5;28;43;01mNone\u001b[39;49;00m\u001b[43m,\u001b[49m\u001b[43m \u001b[49m\u001b[43mout\u001b[49m\u001b[43m,\u001b[49m\n\u001b[1;32m   2792\u001b[0m \u001b[43m                          \u001b[49m\u001b[43mkeepdims\u001b[49m\u001b[38;5;241;43m=\u001b[39;49m\u001b[43mkeepdims\u001b[49m\u001b[43m,\u001b[49m\u001b[43m \u001b[49m\u001b[43minitial\u001b[49m\u001b[38;5;241;43m=\u001b[39;49m\u001b[43minitial\u001b[49m\u001b[43m,\u001b[49m\u001b[43m \u001b[49m\u001b[43mwhere\u001b[49m\u001b[38;5;241;43m=\u001b[39;49m\u001b[43mwhere\u001b[49m\u001b[43m)\u001b[49m\n",
      "File \u001b[0;32m/opt/homebrew/Caskroom/miniforge/base/envs/mlp/lib/python3.9/site-packages/numpy/core/fromnumeric.py:86\u001b[0m, in \u001b[0;36m_wrapreduction\u001b[0;34m(obj, ufunc, method, axis, dtype, out, **kwargs)\u001b[0m\n\u001b[1;32m     83\u001b[0m         \u001b[38;5;28;01melse\u001b[39;00m:\n\u001b[1;32m     84\u001b[0m             \u001b[38;5;28;01mreturn\u001b[39;00m reduction(axis\u001b[38;5;241m=\u001b[39maxis, out\u001b[38;5;241m=\u001b[39mout, \u001b[38;5;241m*\u001b[39m\u001b[38;5;241m*\u001b[39mpasskwargs)\n\u001b[0;32m---> 86\u001b[0m \u001b[38;5;28;01mreturn\u001b[39;00m \u001b[43mufunc\u001b[49m\u001b[38;5;241;43m.\u001b[39;49m\u001b[43mreduce\u001b[49m\u001b[43m(\u001b[49m\u001b[43mobj\u001b[49m\u001b[43m,\u001b[49m\u001b[43m \u001b[49m\u001b[43maxis\u001b[49m\u001b[43m,\u001b[49m\u001b[43m \u001b[49m\u001b[43mdtype\u001b[49m\u001b[43m,\u001b[49m\u001b[43m \u001b[49m\u001b[43mout\u001b[49m\u001b[43m,\u001b[49m\u001b[43m \u001b[49m\u001b[38;5;241;43m*\u001b[39;49m\u001b[38;5;241;43m*\u001b[39;49m\u001b[43mpasskwargs\u001b[49m\u001b[43m)\u001b[49m\n",
      "\u001b[0;31mKeyboardInterrupt\u001b[0m: "
     ]
    },
    {
     "data": {
      "image/png": "[encoded data removed]",
      "text/plain": [
       "<Figure size 2880x720 with 1 Axes>"
      ]
     },
     "metadata": {
      "needs_background": "light"
     },
     "output_type": "display_data"
    },
    {
     "data": {
      "image/png": "[encoded data removed]",
      "text/plain": [
       "<Figure size 1296x720 with 30 Axes>"
      ]
     },
     "metadata": {
      "needs_background": "light"
     },
     "output_type": "display_data"
    }
   ],
   "source": [
    "from sklearn.model_selection import train_test_split\n",
    "\n",
    "xz_data, yz_data, fz_data = ziffer_data(input_dir='images')\n",
    "\n",
    "# distribution\n",
    "_, inverse = np.unique(yz_data, return_inverse=True)\n",
    "ziffer_bincount = np.bincount(inverse)\n",
    "plot_divergence(ziffer_bincount, \"meter digits spread\", nb_classes)\n",
    "\n",
    "\n",
    "# Split train and validation data \n",
    "xz_train, yz_train = shuffle(xz_data, yz_data)\n",
    "xz_train, xz_test, yz_train, yz_test = train_test_split(xz_train, yz_train, test_size=Training_Percentage)\n",
    "\n",
    "\n",
    "xt_data, yt_data = tmnist_percentals()\n",
    "\n",
    "\n",
    "x_data = np.concatenate((xt_data, xz_train))\n",
    "y_data = np.concatenate((yt_data, yz_train))\n",
    "x_data, y_data = shuffle(x_data, y_data)\n",
    "x_train, x_test, y_train, y_test = train_test_split(x_data, y_data, test_size=Training_Percentage)\n",
    "\n",
    "print(x_train.shape)\n",
    "\n",
    "input_shape=x_train[0].shape\n",
    "print(f\"dataset x_train-size={len(x_train)}\")\n",
    "plot_dataset(x_train, y_train)\n",
    "\n",
    "y_train = class_encoding(y_train, nb_classes)\n",
    "y_test = class_encoding(y_test, nb_classes)\n",
    "\n",
    "yz_train = class_encoding(yz_train, nb_classes)\n",
    "yz_test = class_encoding(yz_test, nb_classes)\n"
   ]
  },
  {
   "cell_type": "markdown",
   "id": "a64f9cb5",
   "metadata": {
    "papermill": {
     "duration": 0.023702,
     "end_time": "2022-05-05T11:25:35.276412",
     "exception": false,
     "start_time": "2022-05-05T11:25:35.252710",
     "status": "completed"
    },
    "tags": []
   },
   "source": [
    "### Augmentation\n",
    "See augementation above for augmentation values.\n",
    "Standard augmentation of image generator is used plus inverting, spot light and noising images.\n",
    "\n",
    "The validation set is not augmentated. It uses only meter digit images for a real result how the model fits to meter digits.\n",
    "So the validation says more about the results and its easier to use a early stopping mechanism."
   ]
  },
  {
   "cell_type": "code",
   "execution_count": null,
   "id": "d502b913",
   "metadata": {
    "execution": {
     "iopub.execute_input": "2022-05-05T11:25:35.326369Z",
     "iopub.status.busy": "2022-05-05T11:25:35.326054Z",
     "iopub.status.idle": "2022-05-05T11:25:44.010058Z",
     "shell.execute_reply": "2022-05-05T11:25:44.009397Z"
    },
    "papermill": {
     "duration": 8.713367,
     "end_time": "2022-05-05T11:25:44.014279",
     "exception": false,
     "start_time": "2022-05-05T11:25:35.300912",
     "status": "completed"
    },
    "tags": []
   },
   "outputs": [],
   "source": [
    "import numpy as np\n",
    "\n",
    "train_iterator = augmentation(x_train, y_train)\n",
    "validation_iterator = no_augmentation(x_test, y_test)\n",
    "\n",
    "# train data\n",
    "print(\"Train data\")\n",
    "plot_dataset_it(train_iterator)     \n",
    "\n",
    "# validation data\n",
    "print(\"Validation data\")\n",
    "plot_dataset_it(validation_iterator) \n"
   ]
  },
  {
   "cell_type": "markdown",
   "id": "fc363c6c",
   "metadata": {
    "papermill": {
     "duration": 0.02918,
     "end_time": "2022-05-05T11:25:44.073414",
     "exception": false,
     "start_time": "2022-05-05T11:25:44.044234",
     "status": "completed"
    },
    "tags": []
   },
   "source": [
    "### The Model\n",
    "\n",
    "Is an small EfficientNet like model with a dense output of 100 at top. \n",
    "\n"
   ]
  },
  {
   "cell_type": "code",
   "execution_count": null,
   "id": "d9035321",
   "metadata": {
    "execution": {
     "iopub.execute_input": "2022-05-05T11:25:44.134798Z",
     "iopub.status.busy": "2022-05-05T11:25:44.134200Z",
     "iopub.status.idle": "2022-05-05T11:25:44.462117Z",
     "shell.execute_reply": "2022-05-05T11:25:44.461207Z"
    },
    "papermill": {
     "duration": 0.361475,
     "end_time": "2022-05-05T11:25:44.464621",
     "exception": false,
     "start_time": "2022-05-05T11:25:44.103146",
     "status": "completed"
    },
    "tags": []
   },
   "outputs": [],
   "source": [
    "import tensorflow as tf\n",
    "from b2n.models.cnn32 import VGG_like\n",
    "model = VGG_like(input_shape, nb_classes)\n",
    "\n",
    "model.compile(loss=tf.keras.losses.CategoricalCrossentropy(from_logits=True), \n",
    "              optimizer=\"adam\", metrics = [\"accuracy\"])"
   ]
  },
  {
   "cell_type": "code",
   "execution_count": null,
   "id": "f383fdaf",
   "metadata": {
    "execution": {
     "iopub.execute_input": "2022-05-05T11:25:44.524942Z",
     "iopub.status.busy": "2022-05-05T11:25:44.524378Z",
     "iopub.status.idle": "2022-05-05T19:24:32.253300Z",
     "shell.execute_reply": "2022-05-05T19:24:32.251187Z"
    },
    "papermill": {
     "duration": 28727.762738,
     "end_time": "2022-05-05T19:24:32.256769",
     "exception": false,
     "start_time": "2022-05-05T11:25:44.494031",
     "status": "completed"
    },
    "tags": []
   },
   "outputs": [],
   "source": [
    "from keras.callbacks import EarlyStopping, LearningRateScheduler, ModelCheckpoint\n",
    "\n",
    "annealer = LearningRateScheduler(lambda x: 1e-3 * 0.98 ** x, verbose=0)\n",
    "earlystop = EarlyStopping(monitor='val_loss', mode='min' , patience=50, verbose=1, baseline=0.04, restore_best_weights=True)\n",
    "mc = ModelCheckpoint(model_filename + '_best.h5', monitor='val_accuracy', mode='max', verbose=1, save_best_only=True)\n",
    "\n",
    "history = model.fit(train_iterator, \n",
    "                validation_data=validation_iterator, \n",
    "                batch_size=Batch_Size, \n",
    "                epochs = Epoch_Anz,\n",
    "                callbacks=[annealer, earlystop, mc],\n",
    "                verbose=1)\n",
    "\n",
    "plot_acc_loss(history, \"Trainingsresults\")\n",
    "\n",
    "predict_meter_digits()"
   ]
  },
  {
   "cell_type": "code",
   "execution_count": null,
   "id": "8c642839",
   "metadata": {},
   "outputs": [],
   "source": [
    "import numpy as np\n",
    "\n",
    "model = keras.models.load_model(model_filename + '_best.h5')\n",
    "\n",
    "# now whith meter digits\n",
    "train_iterator = augmentation(xz_train, yz_train)\n",
    "validation_iterator = no_augmentation(xz_test, yz_test)\n",
    "\n",
    "# train data\n",
    "print(\"Train data\")\n",
    "plot_dataset_it(train_iterator)     \n",
    "\n",
    "# validation data\n",
    "print(\"Validation data\")\n",
    "plot_dataset_it(validation_iterator) \n",
    "\n",
    "# only the last layer is now trainable\n",
    "for layer in model.layers[:-1]:\n",
    "    layer.trainable=False\n",
    "\n",
    "mc = ModelCheckpoint(model_filename + '_best_transfer.h5', monitor='val_accuracy', mode='max', verbose=1, save_best_only=True)\n",
    "\n",
    "model.compile(loss=tf.keras.losses.CategoricalCrossentropy(from_logits=True), \n",
    "              optimizer=\"adam\", metrics = [\"accuracy\"])\n",
    "\n",
    "history = model.fit(train_iterator, \n",
    "                validation_data=validation_iterator, \n",
    "                batch_size=Batch_Size, \n",
    "                epochs = Epoch_Anz,\n",
    "                callbacks=[annealer, earlystop, mc],\n",
    "                verbose=1)\n",
    "\n",
    "plot_acc_loss(history, \"Trainingsresults\")\n",
    "\n",
    "predict_meter_digits()"
   ]
  },
  {
   "cell_type": "markdown",
   "id": "0d832bc7",
   "metadata": {},
   "source": [
    "### Ziffer images\n",
    "\n",
    "The model is build for predicting meter digit images (Ziffer). So we test *all* meter digit images of the dataset (not only the validation set)\n",
    "\n",
    "max_delta can set a value, that ignored convergence +/- of the value and accept it as predicted correctly.\n",
    "\n",
    "Because of the meter digit dataset (only 0.0, 1.0, ... 9.0) We have no real answer how good the images between two digits are predicted."
   ]
  }
 ],
 "metadata": {
  "interpreter": {
   "hash": "4976e0179d97dd6d59b1329a76e601e17b789c2571b41c8b57f5fd69821c0dd3"
  },
  "kernelspec": {
   "display_name": "Python 3 (ipykernel)",
   "language": "python",
   "name": "python3"
  },
  "language_info": {
   "codemirror_mode": {
    "name": "ipython",
    "version": 3
   },
   "file_extension": ".py",
   "mimetype": "text/x-python",
   "name": "python",
   "nbconvert_exporter": "python",
   "pygments_lexer": "ipython3",
   "version": "3.9.10"
  },
  "papermill": {
   "default_parameters": {},
   "duration": 29168.886987,
   "end_time": "2022-05-05T19:30:04.260551",
   "environment_variables": {},
   "exception": null,
   "input_path": "__notebook__.ipynb",
   "output_path": "__notebook__.ipynb",
   "parameters": {},
   "start_time": "2022-05-05T11:23:55.373564",
   "version": "2.3.4"
  }
 },
 "nbformat": 4,
 "nbformat_minor": 5
}
