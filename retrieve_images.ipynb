{
 "cells": [
  {
   "cell_type": "code",
   "execution_count": 53,
   "metadata": {},
   "outputs": [],
   "source": [
    "import urllib.request\n",
    "import re\n",
    "import requests\n",
    "import os\n",
    "import requests\n",
    "from PIL import Image\n",
    "from datetime import datetime\n",
    "\n",
    "def yesterday():\n",
    "    from datetime import date, timedelta\n",
    "    yesterday = date.today() - timedelta(days=1)\n",
    "    return yesterday.strftime(\"%Y%m%d\")\n",
    "\n",
    "\n",
    "def readimages(servername):\n",
    "    serverurl = \"http://\" + servername\n",
    "    \n",
    "    for i in range(24):\n",
    "        hour = f'{i:02d}'\n",
    "        print(serverurl + \"/fileserver/log/digit/\" + yesterday() + \"/\" + hour+ \"/\")\n",
    "        fp = urllib.request.urlopen(serverurl + \"/fileserver/log/digit/\" + yesterday() + \"/\" + hour + \"/\")\n",
    "        mybytes = fp.read()\n",
    "\n",
    "        mystr = mybytes.decode(\"utf8\")\n",
    "        fp.close()\n",
    "\n",
    "        urls = re.findall(r'href=[\\'\"]?([^\\'\" >]+)', mystr)\n",
    "        path = \"images/\" + servername + \"/\" + yesterday() + \"/\" + hour\n",
    "        os.makedirs(path, exist_ok=True) \n",
    "        for url in urls:\n",
    "            filename = os.path.basename(url)\n",
    "            if (not os.path.exists(path + \"/\" + filename)):\n",
    "                print(serverurl+url)\n",
    "                img = Image.open(requests.get(serverurl+url, stream=True).raw)\n",
    "                img.save(path + \"/\" + filename)\n",
    "\n",
    "    "
   ]
  },
  {
   "cell_type": "code",
   "execution_count": 54,
   "metadata": {},
   "outputs": [
    {
     "name": "stdout",
     "output_type": "stream",
     "text": [
      "http://gasmeter1/fileserver/log/digit/20220503/00/\n",
      "http://gasmeter1/fileserver/log/digit/20220503/01/\n",
      "http://gasmeter1/fileserver/log/digit/20220503/02/\n",
      "http://gasmeter1/fileserver/log/digit/20220503/03/\n",
      "http://gasmeter1/fileserver/log/digit/20220503/04/\n"
     ]
    },
    {
     "ename": "KeyboardInterrupt",
     "evalue": "",
     "output_type": "error",
     "traceback": [
      "\u001b[0;31m---------------------------------------------------------------------------\u001b[0m",
      "\u001b[0;31mKeyboardInterrupt\u001b[0m                         Traceback (most recent call last)",
      "\u001b[1;32m/Users/haverland/workspaces/GitHub/between_to_numbers/retrieve_images.ipynb Cell 2'\u001b[0m in \u001b[0;36m<module>\u001b[0;34m\u001b[0m\n\u001b[1;32m      <a href='vscode-notebook-cell:/Users/haverland/workspaces/GitHub/between_to_numbers/retrieve_images.ipynb#ch0000001?line=0'>1</a>\u001b[0m meters \u001b[39m=\u001b[39m (  \u001b[39m\"\u001b[39m\u001b[39mgasmeter1\u001b[39m\u001b[39m\"\u001b[39m, \u001b[39m\"\u001b[39m\u001b[39mwatermeter1\u001b[39m\u001b[39m\"\u001b[39m, \u001b[39m\"\u001b[39m\u001b[39mwatermeter2\u001b[39m\u001b[39m\"\u001b[39m,\u001b[39m\"\u001b[39m\u001b[39memeter1\u001b[39m\u001b[39m\"\u001b[39m)\n\u001b[1;32m      <a href='vscode-notebook-cell:/Users/haverland/workspaces/GitHub/between_to_numbers/retrieve_images.ipynb#ch0000001?line=2'>3</a>\u001b[0m \u001b[39mfor\u001b[39;00m meter \u001b[39min\u001b[39;00m meters:\n\u001b[0;32m----> <a href='vscode-notebook-cell:/Users/haverland/workspaces/GitHub/between_to_numbers/retrieve_images.ipynb#ch0000001?line=3'>4</a>\u001b[0m     readimages(meter)\n",
      "\u001b[1;32m/Users/haverland/workspaces/GitHub/between_to_numbers/retrieve_images.ipynb Cell 1'\u001b[0m in \u001b[0;36mreadimages\u001b[0;34m(servername)\u001b[0m\n\u001b[1;32m     <a href='vscode-notebook-cell:/Users/haverland/workspaces/GitHub/between_to_numbers/retrieve_images.ipynb#ch0000000?line=19'>20</a>\u001b[0m \u001b[39mprint\u001b[39m(serverurl \u001b[39m+\u001b[39m \u001b[39m\"\u001b[39m\u001b[39m/fileserver/log/digit/\u001b[39m\u001b[39m\"\u001b[39m \u001b[39m+\u001b[39m yesterday() \u001b[39m+\u001b[39m \u001b[39m\"\u001b[39m\u001b[39m/\u001b[39m\u001b[39m\"\u001b[39m \u001b[39m+\u001b[39m hour\u001b[39m+\u001b[39m \u001b[39m\"\u001b[39m\u001b[39m/\u001b[39m\u001b[39m\"\u001b[39m)\n\u001b[1;32m     <a href='vscode-notebook-cell:/Users/haverland/workspaces/GitHub/between_to_numbers/retrieve_images.ipynb#ch0000000?line=20'>21</a>\u001b[0m fp \u001b[39m=\u001b[39m urllib\u001b[39m.\u001b[39mrequest\u001b[39m.\u001b[39murlopen(serverurl \u001b[39m+\u001b[39m \u001b[39m\"\u001b[39m\u001b[39m/fileserver/log/digit/\u001b[39m\u001b[39m\"\u001b[39m \u001b[39m+\u001b[39m yesterday() \u001b[39m+\u001b[39m \u001b[39m\"\u001b[39m\u001b[39m/\u001b[39m\u001b[39m\"\u001b[39m \u001b[39m+\u001b[39m hour \u001b[39m+\u001b[39m \u001b[39m\"\u001b[39m\u001b[39m/\u001b[39m\u001b[39m\"\u001b[39m)\n\u001b[0;32m---> <a href='vscode-notebook-cell:/Users/haverland/workspaces/GitHub/between_to_numbers/retrieve_images.ipynb#ch0000000?line=21'>22</a>\u001b[0m mybytes \u001b[39m=\u001b[39m fp\u001b[39m.\u001b[39;49mread()\n\u001b[1;32m     <a href='vscode-notebook-cell:/Users/haverland/workspaces/GitHub/between_to_numbers/retrieve_images.ipynb#ch0000000?line=23'>24</a>\u001b[0m mystr \u001b[39m=\u001b[39m mybytes\u001b[39m.\u001b[39mdecode(\u001b[39m\"\u001b[39m\u001b[39mutf8\u001b[39m\u001b[39m\"\u001b[39m)\n\u001b[1;32m     <a href='vscode-notebook-cell:/Users/haverland/workspaces/GitHub/between_to_numbers/retrieve_images.ipynb#ch0000000?line=24'>25</a>\u001b[0m fp\u001b[39m.\u001b[39mclose()\n",
      "File \u001b[0;32m/opt/homebrew/Caskroom/miniforge/base/envs/mlp/lib/python3.9/http/client.py:470\u001b[0m, in \u001b[0;36mHTTPResponse.read\u001b[0;34m(self, amt)\u001b[0m\n\u001b[1;32m    <a href='file:///opt/homebrew/Caskroom/miniforge/base/envs/mlp/lib/python3.9/http/client.py?line=464'>465</a>\u001b[0m \u001b[39melse\u001b[39;00m:\n\u001b[1;32m    <a href='file:///opt/homebrew/Caskroom/miniforge/base/envs/mlp/lib/python3.9/http/client.py?line=465'>466</a>\u001b[0m     \u001b[39m# Amount is not given (unbounded read) so we must check self.length\u001b[39;00m\n\u001b[1;32m    <a href='file:///opt/homebrew/Caskroom/miniforge/base/envs/mlp/lib/python3.9/http/client.py?line=466'>467</a>\u001b[0m     \u001b[39m# and self.chunked\u001b[39;00m\n\u001b[1;32m    <a href='file:///opt/homebrew/Caskroom/miniforge/base/envs/mlp/lib/python3.9/http/client.py?line=468'>469</a>\u001b[0m     \u001b[39mif\u001b[39;00m \u001b[39mself\u001b[39m\u001b[39m.\u001b[39mchunked:\n\u001b[0;32m--> <a href='file:///opt/homebrew/Caskroom/miniforge/base/envs/mlp/lib/python3.9/http/client.py?line=469'>470</a>\u001b[0m         \u001b[39mreturn\u001b[39;00m \u001b[39mself\u001b[39;49m\u001b[39m.\u001b[39;49m_readall_chunked()\n\u001b[1;32m    <a href='file:///opt/homebrew/Caskroom/miniforge/base/envs/mlp/lib/python3.9/http/client.py?line=471'>472</a>\u001b[0m     \u001b[39mif\u001b[39;00m \u001b[39mself\u001b[39m\u001b[39m.\u001b[39mlength \u001b[39mis\u001b[39;00m \u001b[39mNone\u001b[39;00m:\n\u001b[1;32m    <a href='file:///opt/homebrew/Caskroom/miniforge/base/envs/mlp/lib/python3.9/http/client.py?line=472'>473</a>\u001b[0m         s \u001b[39m=\u001b[39m \u001b[39mself\u001b[39m\u001b[39m.\u001b[39mfp\u001b[39m.\u001b[39mread()\n",
      "File \u001b[0;32m/opt/homebrew/Caskroom/miniforge/base/envs/mlp/lib/python3.9/http/client.py:577\u001b[0m, in \u001b[0;36mHTTPResponse._readall_chunked\u001b[0;34m(self)\u001b[0m\n\u001b[1;32m    <a href='file:///opt/homebrew/Caskroom/miniforge/base/envs/mlp/lib/python3.9/http/client.py?line=574'>575</a>\u001b[0m \u001b[39mtry\u001b[39;00m:\n\u001b[1;32m    <a href='file:///opt/homebrew/Caskroom/miniforge/base/envs/mlp/lib/python3.9/http/client.py?line=575'>576</a>\u001b[0m     \u001b[39mwhile\u001b[39;00m \u001b[39mTrue\u001b[39;00m:\n\u001b[0;32m--> <a href='file:///opt/homebrew/Caskroom/miniforge/base/envs/mlp/lib/python3.9/http/client.py?line=576'>577</a>\u001b[0m         chunk_left \u001b[39m=\u001b[39m \u001b[39mself\u001b[39;49m\u001b[39m.\u001b[39;49m_get_chunk_left()\n\u001b[1;32m    <a href='file:///opt/homebrew/Caskroom/miniforge/base/envs/mlp/lib/python3.9/http/client.py?line=577'>578</a>\u001b[0m         \u001b[39mif\u001b[39;00m chunk_left \u001b[39mis\u001b[39;00m \u001b[39mNone\u001b[39;00m:\n\u001b[1;32m    <a href='file:///opt/homebrew/Caskroom/miniforge/base/envs/mlp/lib/python3.9/http/client.py?line=578'>579</a>\u001b[0m             \u001b[39mbreak\u001b[39;00m\n",
      "File \u001b[0;32m/opt/homebrew/Caskroom/miniforge/base/envs/mlp/lib/python3.9/http/client.py:558\u001b[0m, in \u001b[0;36mHTTPResponse._get_chunk_left\u001b[0;34m(self)\u001b[0m\n\u001b[1;32m    <a href='file:///opt/homebrew/Caskroom/miniforge/base/envs/mlp/lib/python3.9/http/client.py?line=554'>555</a>\u001b[0m \u001b[39mif\u001b[39;00m \u001b[39mnot\u001b[39;00m chunk_left: \u001b[39m# Can be 0 or None\u001b[39;00m\n\u001b[1;32m    <a href='file:///opt/homebrew/Caskroom/miniforge/base/envs/mlp/lib/python3.9/http/client.py?line=555'>556</a>\u001b[0m     \u001b[39mif\u001b[39;00m chunk_left \u001b[39mis\u001b[39;00m \u001b[39mnot\u001b[39;00m \u001b[39mNone\u001b[39;00m:\n\u001b[1;32m    <a href='file:///opt/homebrew/Caskroom/miniforge/base/envs/mlp/lib/python3.9/http/client.py?line=556'>557</a>\u001b[0m         \u001b[39m# We are at the end of chunk, discard chunk end\u001b[39;00m\n\u001b[0;32m--> <a href='file:///opt/homebrew/Caskroom/miniforge/base/envs/mlp/lib/python3.9/http/client.py?line=557'>558</a>\u001b[0m         \u001b[39mself\u001b[39;49m\u001b[39m.\u001b[39;49m_safe_read(\u001b[39m2\u001b[39;49m)  \u001b[39m# toss the CRLF at the end of the chunk\u001b[39;00m\n\u001b[1;32m    <a href='file:///opt/homebrew/Caskroom/miniforge/base/envs/mlp/lib/python3.9/http/client.py?line=558'>559</a>\u001b[0m     \u001b[39mtry\u001b[39;00m:\n\u001b[1;32m    <a href='file:///opt/homebrew/Caskroom/miniforge/base/envs/mlp/lib/python3.9/http/client.py?line=559'>560</a>\u001b[0m         chunk_left \u001b[39m=\u001b[39m \u001b[39mself\u001b[39m\u001b[39m.\u001b[39m_read_next_chunk_size()\n",
      "File \u001b[0;32m/opt/homebrew/Caskroom/miniforge/base/envs/mlp/lib/python3.9/http/client.py:626\u001b[0m, in \u001b[0;36mHTTPResponse._safe_read\u001b[0;34m(self, amt)\u001b[0m\n\u001b[1;32m    <a href='file:///opt/homebrew/Caskroom/miniforge/base/envs/mlp/lib/python3.9/http/client.py?line=623'>624</a>\u001b[0m s \u001b[39m=\u001b[39m []\n\u001b[1;32m    <a href='file:///opt/homebrew/Caskroom/miniforge/base/envs/mlp/lib/python3.9/http/client.py?line=624'>625</a>\u001b[0m \u001b[39mwhile\u001b[39;00m amt \u001b[39m>\u001b[39m \u001b[39m0\u001b[39m:\n\u001b[0;32m--> <a href='file:///opt/homebrew/Caskroom/miniforge/base/envs/mlp/lib/python3.9/http/client.py?line=625'>626</a>\u001b[0m     chunk \u001b[39m=\u001b[39m \u001b[39mself\u001b[39;49m\u001b[39m.\u001b[39;49mfp\u001b[39m.\u001b[39;49mread(\u001b[39mmin\u001b[39;49m(amt, MAXAMOUNT))\n\u001b[1;32m    <a href='file:///opt/homebrew/Caskroom/miniforge/base/envs/mlp/lib/python3.9/http/client.py?line=626'>627</a>\u001b[0m     \u001b[39mif\u001b[39;00m \u001b[39mnot\u001b[39;00m chunk:\n\u001b[1;32m    <a href='file:///opt/homebrew/Caskroom/miniforge/base/envs/mlp/lib/python3.9/http/client.py?line=627'>628</a>\u001b[0m         \u001b[39mraise\u001b[39;00m IncompleteRead(\u001b[39mb\u001b[39m\u001b[39m'\u001b[39m\u001b[39m'\u001b[39m\u001b[39m.\u001b[39mjoin(s), amt)\n",
      "File \u001b[0;32m/opt/homebrew/Caskroom/miniforge/base/envs/mlp/lib/python3.9/socket.py:704\u001b[0m, in \u001b[0;36mSocketIO.readinto\u001b[0;34m(self, b)\u001b[0m\n\u001b[1;32m    <a href='file:///opt/homebrew/Caskroom/miniforge/base/envs/mlp/lib/python3.9/socket.py?line=701'>702</a>\u001b[0m \u001b[39mwhile\u001b[39;00m \u001b[39mTrue\u001b[39;00m:\n\u001b[1;32m    <a href='file:///opt/homebrew/Caskroom/miniforge/base/envs/mlp/lib/python3.9/socket.py?line=702'>703</a>\u001b[0m     \u001b[39mtry\u001b[39;00m:\n\u001b[0;32m--> <a href='file:///opt/homebrew/Caskroom/miniforge/base/envs/mlp/lib/python3.9/socket.py?line=703'>704</a>\u001b[0m         \u001b[39mreturn\u001b[39;00m \u001b[39mself\u001b[39;49m\u001b[39m.\u001b[39;49m_sock\u001b[39m.\u001b[39;49mrecv_into(b)\n\u001b[1;32m    <a href='file:///opt/homebrew/Caskroom/miniforge/base/envs/mlp/lib/python3.9/socket.py?line=704'>705</a>\u001b[0m     \u001b[39mexcept\u001b[39;00m timeout:\n\u001b[1;32m    <a href='file:///opt/homebrew/Caskroom/miniforge/base/envs/mlp/lib/python3.9/socket.py?line=705'>706</a>\u001b[0m         \u001b[39mself\u001b[39m\u001b[39m.\u001b[39m_timeout_occurred \u001b[39m=\u001b[39m \u001b[39mTrue\u001b[39;00m\n",
      "\u001b[0;31mKeyboardInterrupt\u001b[0m: "
     ]
    }
   ],
   "source": [
    "meters = (  \"gasmeter1\", \"watermeter1\", \"watermeter2\",\"emeter1\")\n",
    "\n",
    "for meter in meters:\n",
    "    readimages(meter)"
   ]
  }
 ],
 "metadata": {
  "interpreter": {
   "hash": "4976e0179d97dd6d59b1329a76e601e17b789c2571b41c8b57f5fd69821c0dd3"
  },
  "kernelspec": {
   "display_name": "Python 3.9.10 ('mlp')",
   "language": "python",
   "name": "python3"
  },
  "language_info": {
   "codemirror_mode": {
    "name": "ipython",
    "version": 3
   },
   "file_extension": ".py",
   "mimetype": "text/x-python",
   "name": "python",
   "nbconvert_exporter": "python",
   "pygments_lexer": "ipython3",
   "version": "3.9.10"
  },
  "orig_nbformat": 4
 },
 "nbformat": 4,
 "nbformat_minor": 2
}
