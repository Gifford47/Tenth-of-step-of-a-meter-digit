{
 "cells": [
  {
   "cell_type": "markdown",
   "metadata": {},
   "source": [
    "## Manual testing\n",
    "\n",
    "Images to predict should be stored in **test_data** directory.\n",
    "\n",
    "Max 30 images will be shown in the plot grid.\n",
    "\n"
   ]
  },
  {
   "cell_type": "code",
   "execution_count": 23,
   "metadata": {},
   "outputs": [],
   "source": [
    "import os\n",
    "from PIL import Image \n",
    "import numpy as np\n",
    "import tensorflow.keras as keras\n",
    "import math\n",
    "import matplotlib.pyplot as plt\n",
    "\n",
    "\n",
    "def ziffer_data_files(input_dir='test_data'):\n",
    "    imgfiles = []\n",
    "    for root, dirs, files in os.walk(input_dir):\n",
    "        for file in files:\n",
    "            if (file.endswith(\".jpg\") ):\n",
    "                #print(root + \"/\" + file)\n",
    "                imgfiles.append(root + \"/\" + file)\n",
    "    return  imgfiles\n",
    "\n",
    "def ziffer_data(x_data, y_data, nb_classes, use_grayscale=True):\n",
    "\n",
    "    files = ziffer_data_files(\"test_data\")\n",
    "    print(len(files))\n",
    "    y_data = np.array(y_data).reshape(-1,1)\n",
    "    if (use_grayscale):\n",
    "        x_data = np.array(x_data).reshape(-1,32,20,1)\n",
    "    else: \n",
    "        x_data = np.array(x_data).reshape(-1,32,20,3)\n",
    "\n",
    "    for aktfile in files:\n",
    "        base = os.path.basename(aktfile)\n",
    "        target = base[0:1]\n",
    "        if target == \"N\":\n",
    "            category = 10                # NaN does not work --> convert to 10\n",
    "\n",
    "        else:\n",
    "            category = int(target)\n",
    "        test_image = Image.open(aktfile).resize((20, 32))\n",
    "        if (use_grayscale):\n",
    "            test_image = test_image.convert('L')\n",
    "        test_image = np.array(test_image, dtype=\"float32\")\n",
    "        test_image = test_image/255.\n",
    "            \n",
    "        #print(test_image.shape)\n",
    "        if (use_grayscale):\n",
    "            test_image = test_image.reshape(1,32,20,1)\n",
    "        else:\n",
    "            test_image = test_image.reshape(1,32,20,3)\n",
    "\n",
    "        x_data = np.vstack((x_data, test_image))\n",
    "        y_data = np.vstack((y_data, [category]))\n",
    "    print(\"Ziffer data count: \", len(y_data))   \n",
    "    return x_data, y_data\n",
    "\n",
    "\n",
    "def class_encoding(y_train, nb_classes):\n",
    "    ret = np.zeros((len(y_train), nb_classes))\n",
    "    for i, y in enumerate(y_train):\n",
    "        #print(i, y, int((y*10)))\n",
    "        ret[i, int((y*10))] = 1\n",
    "    return ret\n",
    "\n",
    "def class_decoding(y_train, nb_classes=100):\n",
    "    ret = np.zeros((len(y_train), 1))\n",
    "    for i, y in enumerate(y_train):\n",
    "        ret[i] = (np.argmax(y))/10\n",
    "    return ret\n",
    "\n",
    "def plot_dataset(images, labels, columns=12, rows=5):\n",
    "\n",
    "    fig = plt.figure(figsize=(18, 10))\n",
    "    columns = 12\n",
    "    rows = 5\n",
    "\n",
    "    for i in range(1, columns*rows +1):\n",
    "        if (i>len(labels)):\n",
    "            break\n",
    "        fig.add_subplot(rows, columns, i)\n",
    "        plt.axis(\"off\")\n",
    "        plt.title(labels[i-1])  # set title\n",
    "        if(images[i-1].shape[-1]==1):\n",
    "            plt.imshow((images[i-1]), aspect='auto', cmap='gray')\n",
    "        else:\n",
    "            plt.imshow((images[i-1]), aspect='auto')\n",
    "        plt.tight_layout()\n",
    "    plt.show()"
   ]
  },
  {
   "cell_type": "code",
   "execution_count": 27,
   "metadata": {},
   "outputs": [
    {
     "name": "stdout",
     "output_type": "stream",
     "text": [
      "8\n",
      "Ziffer data count:  8\n"
     ]
    },
    {
     "name": "stderr",
     "output_type": "stream",
     "text": [
      "2022-05-19 17:35:00.866845: I tensorflow/core/grappler/optimizers/custom_graph_optimizer_registry.cc:113] Plugin optimizer for device_type GPU is enabled.\n"
     ]
    },
    {
     "data": {
      "image/png": "[encoded data removed]",
      "text/plain": [
       "<Figure size 1296x720 with 8 Axes>"
      ]
     },
     "metadata": {
      "needs_background": "light"
     },
     "output_type": "display_data"
    }
   ],
   "source": [
    "import numpy as np\n",
    "import math\n",
    "from operator import itemgetter\n",
    "\n",
    "img = []\n",
    "pred_label = []\n",
    "\n",
    "xz_data, yz_data = ziffer_data([], [], 100,  use_grayscale=True)\n",
    "input_shape=xz_data[0].shape\n",
    "\n",
    "model = keras.models.load_model(\"eff100-gray.h5\")\n",
    "\n",
    "for x, y in zip(xz_data, yz_data):\n",
    "\n",
    "    target = y\n",
    "    classes = model.predict(np.expand_dims(x.reshape(input_shape), axis=0))\n",
    "    out_target = class_decoding(classes)[0]\n",
    "    lbl_text = \"Expected: \" + str(target) + \"\\n Predicted: \" + str(out_target)\n",
    "           \n",
    "                   \n",
    "    img.append(x)\n",
    "    pred_label.append(lbl_text)\n",
    "    \n",
    "\n",
    "plot_dataset(np.array(img), pred_label, columns=11, rows=3)"
   ]
  }
 ],
 "metadata": {
  "interpreter": {
   "hash": "4976e0179d97dd6d59b1329a76e601e17b789c2571b41c8b57f5fd69821c0dd3"
  },
  "kernelspec": {
   "display_name": "Python 3.9.10 ('mlp')",
   "language": "python",
   "name": "python3"
  },
  "language_info": {
   "codemirror_mode": {
    "name": "ipython",
    "version": 3
   },
   "file_extension": ".py",
   "mimetype": "text/x-python",
   "name": "python",
   "nbconvert_exporter": "python",
   "pygments_lexer": "ipython3",
   "version": "3.9.10"
  },
  "orig_nbformat": 4
 },
 "nbformat": 4,
 "nbformat_minor": 2
}
