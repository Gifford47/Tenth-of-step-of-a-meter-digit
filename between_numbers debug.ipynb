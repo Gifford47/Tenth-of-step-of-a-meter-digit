{
 "cells": [
  {
   "cell_type": "code",
   "execution_count": 7,
   "metadata": {},
   "outputs": [],
   "source": [
    "import tensorflow as tf\n",
    "import numpy as np\n",
    "import pandas as pd\n",
    "\n",
    "###### 29000 font images from google fonts\n",
    "### see https://www.kaggle.com/datasets/nimishmagre/tmnist-typeface-mnist?select=TMNIST_Data.csv\n",
    "def tmnist_kaggle(x_data, y_data):\n",
    "    dataset_url = \"datasets/TMNIST_Data.csv\"\n",
    "    data = pd.read_csv(dataset_url)\n",
    "    X = data.drop({'labels','names'},axis=1)\n",
    "    y_tmnist = data[['labels']]\n",
    "    X_images = X.values.reshape(-1,28,28,1)\n",
    "    x_tmnist = tf.image.grayscale_to_rgb(tf.convert_to_tensor(X_images))\n",
    "    x_tmnist = tf.image.resize(x_tmnist, (32,20))\n",
    "    print(x_tmnist.shape, np.array(x_data).shape)\n",
    "    x_data = np.concatenate((x_data,x_tmnist))\n",
    "    return x_data, np.concatenate((y_data, y_tmnist))\n"
   ]
  },
  {
   "cell_type": "code",
   "execution_count": 13,
   "metadata": {},
   "outputs": [
    {
     "data": {
      "text/html": [
       "<div>\n",
       "<style scoped>\n",
       "    .dataframe tbody tr th:only-of-type {\n",
       "        vertical-align: middle;\n",
       "    }\n",
       "\n",
       "    .dataframe tbody tr th {\n",
       "        vertical-align: top;\n",
       "    }\n",
       "\n",
       "    .dataframe thead th {\n",
       "        text-align: right;\n",
       "    }\n",
       "</style>\n",
       "<table border=\"1\" class=\"dataframe\">\n",
       "  <thead>\n",
       "    <tr style=\"text-align: right;\">\n",
       "      <th></th>\n",
       "      <th>names</th>\n",
       "      <th>labels</th>\n",
       "      <th>1</th>\n",
       "      <th>2</th>\n",
       "      <th>3</th>\n",
       "      <th>4</th>\n",
       "      <th>5</th>\n",
       "      <th>6</th>\n",
       "      <th>7</th>\n",
       "      <th>8</th>\n",
       "      <th>...</th>\n",
       "      <th>775</th>\n",
       "      <th>776</th>\n",
       "      <th>777</th>\n",
       "      <th>778</th>\n",
       "      <th>779</th>\n",
       "      <th>780</th>\n",
       "      <th>781</th>\n",
       "      <th>782</th>\n",
       "      <th>783</th>\n",
       "      <th>784</th>\n",
       "    </tr>\n",
       "  </thead>\n",
       "  <tbody>\n",
       "    <tr>\n",
       "      <th>421</th>\n",
       "      <td>GrandHotel-Regular</td>\n",
       "      <td>3</td>\n",
       "      <td>0</td>\n",
       "      <td>0</td>\n",
       "      <td>0</td>\n",
       "      <td>0</td>\n",
       "      <td>0</td>\n",
       "      <td>0</td>\n",
       "      <td>0</td>\n",
       "      <td>0</td>\n",
       "      <td>...</td>\n",
       "      <td>0</td>\n",
       "      <td>0</td>\n",
       "      <td>0</td>\n",
       "      <td>0</td>\n",
       "      <td>0</td>\n",
       "      <td>0</td>\n",
       "      <td>0</td>\n",
       "      <td>0</td>\n",
       "      <td>0</td>\n",
       "      <td>0</td>\n",
       "    </tr>\n",
       "  </tbody>\n",
       "</table>\n",
       "<p>1 rows × 786 columns</p>\n",
       "</div>"
      ],
      "text/plain": [
       "                  names  labels  1  2  3  4  5  6  7  8  ...  775  776  777  \\\n",
       "421  GrandHotel-Regular       3  0  0  0  0  0  0  0  0  ...    0    0    0   \n",
       "\n",
       "     778  779  780  781  782  783  784  \n",
       "421    0    0    0    0    0    0    0  \n",
       "\n",
       "[1 rows x 786 columns]"
      ]
     },
     "execution_count": 13,
     "metadata": {},
     "output_type": "execute_result"
    }
   ],
   "source": [
    "dataset_url = \"datasets/TMNIST_Data.csv\"\n",
    "df = pd.read_csv(dataset_url)\n",
    "df.head()\n",
    "\n",
    "dig1 = df.loc[(df['names'] == 'GrandHotel-Regular') & (df['labels'] == 2)]\n",
    "dig1 = dig1.drop({'labels','names'},axis=1)\n",
    "dig2 = df.loc[(df['names'] == 'GrandHotel-Regular') & (df['labels'] == 3)]\n",
    "dig2 = dig2.drop({'labels','names'},axis=1)\n",
    "dig_p_1 = tf.image.grayscale_to_rgb(tf.convert_to_tensor(dig1))\n",
    "dig_p_2 = tf.image.grayscale_to_rgb(tf.convert_to_tensor(dig2))"
   ]
  }
 ],
 "metadata": {
  "interpreter": {
   "hash": "4976e0179d97dd6d59b1329a76e601e17b789c2571b41c8b57f5fd69821c0dd3"
  },
  "kernelspec": {
   "display_name": "Python 3.9.10 ('mlp')",
   "language": "python",
   "name": "python3"
  },
  "language_info": {
   "codemirror_mode": {
    "name": "ipython",
    "version": 3
   },
   "file_extension": ".py",
   "mimetype": "text/x-python",
   "name": "python",
   "nbconvert_exporter": "python",
   "pygments_lexer": "ipython3",
   "version": "3.9.10"
  },
  "orig_nbformat": 4
 },
 "nbformat": 4,
 "nbformat_minor": 2
}
