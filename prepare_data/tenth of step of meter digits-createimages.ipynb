{
 "cells": [
  {
   "cell_type": "code",
   "execution_count": 6,
   "metadata": {},
   "outputs": [
    {
     "name": "stdout",
     "output_type": "stream",
     "text": [
      "meter digit count:  16500\n",
      "<U250\n"
     ]
    }
   ],
   "source": [
    "import os\n",
    "import shutil\n",
    "from PIL import Image \n",
    "from tensorflow import keras\n",
    "import numpy as np\n",
    "\n",
    "\n",
    "def ziffer_data_files(input_dir):\n",
    "    imgfiles = []\n",
    "    for root, dirs, files in os.walk(input_dir):\n",
    "        for file in files:\n",
    "            if (file.endswith(\".jpg\") and not file.startswith(\"10_\") and not file.startswith(\"N\")):\n",
    "                #print(root + \"/\" + file)\n",
    "                imgfiles.append(root + \"/\" + file)\n",
    "    return  imgfiles\n",
    "\n",
    "def ziffer_data(input_dir='images'):\n",
    "    \n",
    "    files = ziffer_data_files(input_dir)\n",
    "    \n",
    "    y_data = np.empty((len(files)))\n",
    "    y_file = np.empty((len(files)), dtype=\"<U250\")\n",
    "    x_data = np.empty((len(files),32,20,3))\n",
    "\n",
    "    for i, aktfile in enumerate(files):\n",
    "        base = os.path.basename(aktfile)\n",
    "\n",
    "        # get label from filename (1.2_ new or 1_ old),\n",
    "        if (base[1]==\".\"):\n",
    "            target = base[0:3]\n",
    "        else:\n",
    "            target = base[0:1]\n",
    "         \n",
    "        category = float(target)\n",
    "        \n",
    "        test_image = Image.open(aktfile).resize((20, 32))\n",
    "        test_image = np.array(test_image, dtype=\"float32\")\n",
    "        y_file[i] =  str(base)\n",
    "        x_data[i] = test_image\n",
    "        y_data[i] =  category\n",
    "    print(\"meter digit count: \", len(y_data))   \n",
    "    return x_data, y_data.reshape(-1), y_file.reshape(-1)\n",
    "x_md, y_md, f_md = ziffer_data('../images')\n",
    "\n",
    "print(f_md.dtype)"
   ]
  },
  {
   "cell_type": "code",
   "execution_count": 7,
   "metadata": {},
   "outputs": [
    {
     "ename": "FileNotFoundError",
     "evalue": "[Errno 2] No such file or directory: '../datasets/meterdigits'",
     "output_type": "error",
     "traceback": [
      "\u001b[0;31m---------------------------------------------------------------------------\u001b[0m",
      "\u001b[0;31mFileNotFoundError\u001b[0m                         Traceback (most recent call last)",
      "\u001b[1;32m/Users/haverland/workspaces/GitHub/Tenth-of-step-of-a-meter-digit/prepare_data/tenth of step of meter digits-createimages.ipynb Zelle 2\u001b[0m in \u001b[0;36m<cell line: 7>\u001b[0;34m()\u001b[0m\n\u001b[1;32m      <a href='vscode-notebook-cell:/Users/haverland/workspaces/GitHub/Tenth-of-step-of-a-meter-digit/prepare_data/tenth%20of%20step%20of%20meter%20digits-createimages.ipynb#ch0000001?line=2'>3</a>\u001b[0m \u001b[39mimport\u001b[39;00m \u001b[39mshutil\u001b[39;00m\n\u001b[1;32m      <a href='vscode-notebook-cell:/Users/haverland/workspaces/GitHub/Tenth-of-step-of-a-meter-digit/prepare_data/tenth%20of%20step%20of%20meter%20digits-createimages.ipynb#ch0000001?line=4'>5</a>\u001b[0m output_dir \u001b[39m=\u001b[39m \u001b[39m'\u001b[39m\u001b[39m../datasets/meterdigits\u001b[39m\u001b[39m'\u001b[39m\n\u001b[0;32m----> <a href='vscode-notebook-cell:/Users/haverland/workspaces/GitHub/Tenth-of-step-of-a-meter-digit/prepare_data/tenth%20of%20step%20of%20meter%20digits-createimages.ipynb#ch0000001?line=6'>7</a>\u001b[0m shutil\u001b[39m.\u001b[39;49mrmtree(output_dir)\n\u001b[1;32m     <a href='vscode-notebook-cell:/Users/haverland/workspaces/GitHub/Tenth-of-step-of-a-meter-digit/prepare_data/tenth%20of%20step%20of%20meter%20digits-createimages.ipynb#ch0000001?line=9'>10</a>\u001b[0m \u001b[39mfor\u001b[39;00m x, y, f \u001b[39min\u001b[39;00m \u001b[39mzip\u001b[39m(x_md, y_md, f_md):\n\u001b[1;32m     <a href='vscode-notebook-cell:/Users/haverland/workspaces/GitHub/Tenth-of-step-of-a-meter-digit/prepare_data/tenth%20of%20step%20of%20meter%20digits-createimages.ipynb#ch0000001?line=10'>11</a>\u001b[0m     image \u001b[39m=\u001b[39m Image\u001b[39m.\u001b[39mfromarray(x\u001b[39m.\u001b[39mastype(np\u001b[39m.\u001b[39muint8), mode\u001b[39m=\u001b[39m\u001b[39m'\u001b[39m\u001b[39mRGB\u001b[39m\u001b[39m'\u001b[39m)\n",
      "File \u001b[0;32m/opt/homebrew/Caskroom/miniforge/base/envs/mlp/lib/python3.9/shutil.py:718\u001b[0m, in \u001b[0;36mrmtree\u001b[0;34m(path, ignore_errors, onerror)\u001b[0m\n\u001b[1;32m    716\u001b[0m     orig_st \u001b[39m=\u001b[39m os\u001b[39m.\u001b[39mlstat(path)\n\u001b[1;32m    717\u001b[0m \u001b[39mexcept\u001b[39;00m \u001b[39mException\u001b[39;00m:\n\u001b[0;32m--> 718\u001b[0m     onerror(os\u001b[39m.\u001b[39;49mlstat, path, sys\u001b[39m.\u001b[39;49mexc_info())\n\u001b[1;32m    719\u001b[0m     \u001b[39mreturn\u001b[39;00m\n\u001b[1;32m    720\u001b[0m \u001b[39mtry\u001b[39;00m:\n",
      "File \u001b[0;32m/opt/homebrew/Caskroom/miniforge/base/envs/mlp/lib/python3.9/shutil.py:716\u001b[0m, in \u001b[0;36mrmtree\u001b[0;34m(path, ignore_errors, onerror)\u001b[0m\n\u001b[1;32m    713\u001b[0m \u001b[39m# Note: To guard against symlink races, we use the standard\u001b[39;00m\n\u001b[1;32m    714\u001b[0m \u001b[39m# lstat()/open()/fstat() trick.\u001b[39;00m\n\u001b[1;32m    715\u001b[0m \u001b[39mtry\u001b[39;00m:\n\u001b[0;32m--> 716\u001b[0m     orig_st \u001b[39m=\u001b[39m os\u001b[39m.\u001b[39;49mlstat(path)\n\u001b[1;32m    717\u001b[0m \u001b[39mexcept\u001b[39;00m \u001b[39mException\u001b[39;00m:\n\u001b[1;32m    718\u001b[0m     onerror(os\u001b[39m.\u001b[39mlstat, path, sys\u001b[39m.\u001b[39mexc_info())\n",
      "\u001b[0;31mFileNotFoundError\u001b[0m: [Errno 2] No such file or directory: '../datasets/meterdigits'"
     ]
    }
   ],
   "source": [
    "import os\n",
    "from PIL import Image\n",
    "import shutil\n",
    "\n",
    "output_dir = '../datasets/meterdigits'\n",
    "\n",
    "shutil.rmtree(output_dir, ignore_errors=True)\n",
    "\n",
    "\n",
    "for x, y, f in zip(x_md, y_md, f_md):\n",
    "    image = Image.fromarray(x.astype(np.uint8), mode='RGB')\n",
    "    os.makedirs(os.path.join(output_dir, str(y)), exist_ok=True)\n",
    "    image.save(os.path.join(output_dir, str(y), str(f)))"
   ]
  },
  {
   "cell_type": "code",
   "execution_count": null,
   "metadata": {},
   "outputs": [],
   "source": [
    "import tensorflow as tf\n",
    "ds = tf.keras.utils.image_dataset_from_directory(directory=output_dir, \n",
    "                                            image_size=(32,28), \n",
    "                                            batch_size=32,\n",
    "                                            color_mode='rgb',\n",
    "                                            label_mode='categorical',\n",
    "                                            shuffle=True)"
   ]
  },
  {
   "cell_type": "code",
   "execution_count": null,
   "metadata": {},
   "outputs": [],
   "source": [
    "import matplotlib.pyplot as plt\n",
    "\n",
    "def plot_dataset_it(data_iter, columns=9, rows=5):\n",
    "\n",
    "    fig = plt.figure(figsize=(18, 11))\n",
    "    \n",
    "    for i in range(1, columns*rows +1):\n",
    "        img, label = data_iter.next()\n",
    "        fig.add_subplot(rows, columns, i)\n",
    "        plt.xticks([0.2, 0.4, 0.6, 0.8])\n",
    "        plt.title(np.argmax(label)/10)  # set title\n",
    "        plt.imshow(np.array(img[0]).astype(np.uint8), aspect='1.6', extent=[0, 1, 0, 1])\n",
    "        ax=plt.gca()\n",
    "        ax.get_xaxis().set_visible(False) \n",
    "        # yellow lines\n",
    "        for y in np.arange(0.2, 0.8, 0.2):\n",
    "                plt.axhline(y=y,color='yellow')\n",
    "    plt.show()\n",
    "\n",
    "plot_dataset_it(iter(ds))"
   ]
  }
 ],
 "metadata": {
  "interpreter": {
   "hash": "4976e0179d97dd6d59b1329a76e601e17b789c2571b41c8b57f5fd69821c0dd3"
  },
  "kernelspec": {
   "display_name": "Python 3.9.10 ('mlp')",
   "language": "python",
   "name": "python3"
  },
  "language_info": {
   "codemirror_mode": {
    "name": "ipython",
    "version": 3
   },
   "file_extension": ".py",
   "mimetype": "text/x-python",
   "name": "python",
   "nbconvert_exporter": "python",
   "pygments_lexer": "ipython3",
   "version": "3.9.10"
  },
  "orig_nbformat": 4
 },
 "nbformat": 4,
 "nbformat_minor": 2
}
