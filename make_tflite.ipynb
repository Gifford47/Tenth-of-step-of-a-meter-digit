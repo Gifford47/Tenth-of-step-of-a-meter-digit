{
 "cells": [
  {
   "cell_type": "code",
   "execution_count": 1,
   "metadata": {},
   "outputs": [],
   "source": [
    "\n",
    "from datetime import datetime\n",
    "\n",
    "########### Basic Parameters for Running: ################################\n",
    "\n",
    "DateNow = datetime.today().strftime('%Y%m%d')\n",
    "TimeNow = datetime.today().strftime('%H%M%S')\n",
    "    \n",
    "TFliteNamingAndVersion = \"effnet100-\" + DateNow + \"-\" + TimeNow     # Used for tflite Filename\n",
    "#TFliteNamingAndVersion = \"effnet\"     # Used for tflite Filename\n",
    "Load_Model = \"eff100-gray.h5\"  \n",
    "ziffer_data_url=\"images\"\n",
    "output_dir=\".\"\n",
    "use_grayscale = False\n",
    "nb_classes = 100\n",
    "##########################################################################\n"
   ]
  },
  {
   "cell_type": "code",
   "execution_count": 2,
   "metadata": {},
   "outputs": [],
   "source": [
    "from b2n.models.prune_quantize import prune, quantization_default\n",
    "from b2n.data.ziffer import ziffer_data\n",
    "from b2n.encodings.class_encoding import class_encoding\n",
    "from sklearn.model_selection import train_test_split\n",
    "from sklearn.utils import shuffle\n",
    "\n",
    "\n",
    "import tensorflow.keras as keras\n",
    "\n",
    "xz_data, yz_data, fz_data = ziffer_data(ziffer_data_url, use_grayscale=use_grayscale)\n",
    "x_data, y_data = shuffle(xz_data, yz_data)\n",
    "y_data = class_encoding(y_data, nb_classes)\n",
    "print(y_data.shape)\n",
    "x_train, x_test, y_train, y_test = train_test_split(x_data, y_data, test_size=0.2)\n",
    "print(y_train.shape, y_test.shape)\n",
    "\n",
    "model = keras.models.load_model(Load_Model)\n",
    "\n",
    "# prune the model\n",
    "model_pruned = prune(model=model,\n",
    "        x_train=x_train, \n",
    "        y_train=y_train,\n",
    "        x_test=x_test, \n",
    "        y_test=y_test)\n",
    "\n",
    "# quanitize and save the model\n",
    "tflite_model = quantization_default(model=model_pruned, \n",
    "                            x_train=x_test)\n",
    "# save the model\n",
    "filename=TFliteNamingAndVersion + \"-q.tflite\"                                                     \n",
    "open( filename, \"wb\").write(tflite_model)\n"
   ]
  }
 ],
 "metadata": {
  "interpreter": {
   "hash": "4976e0179d97dd6d59b1329a76e601e17b789c2571b41c8b57f5fd69821c0dd3"
  },
  "kernelspec": {
   "display_name": "Python 3.9.10 ('mlp')",
   "language": "python",
   "name": "python3"
  },
  "language_info": {
   "codemirror_mode": {
    "name": "ipython",
    "version": 3
   },
   "file_extension": ".py",
   "mimetype": "text/x-python",
   "name": "python",
   "nbconvert_exporter": "python",
   "pygments_lexer": "ipython3",
   "version": "3.9.10"
  },
  "orig_nbformat": 4
 },
 "nbformat": 4,
 "nbformat_minor": 2
}
