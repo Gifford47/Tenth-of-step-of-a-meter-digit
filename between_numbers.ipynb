{
 "cells": [
  {
   "cell_type": "code",
   "execution_count": 7,
   "metadata": {},
   "outputs": [],
   "source": [
    "import tensorflow as tf\n",
    "import numpy as np\n",
    "import pandas as pd\n",
    "\n",
    "###### 29000 font images from google fonts\n",
    "### see https://www.kaggle.com/datasets/nimishmagre/tmnist-typeface-mnist?select=TMNIST_Data.csv\n",
    "def tmnist_kaggle(x_data, y_data):\n",
    "    dataset_url = \"datasets/TMNIST_Data.csv\"\n",
    "    data = pd.read_csv(dataset_url)\n",
    "    X = data.drop({'labels','names'},axis=1)\n",
    "    y_tmnist = data[['labels']]\n",
    "    X_images = X.values.reshape(-1,28,28,1)\n",
    "    x_tmnist = tf.image.grayscale_to_rgb(tf.convert_to_tensor(X_images))\n",
    "    x_tmnist = tf.image.resize(x_tmnist, (32,20))\n",
    "    print(x_tmnist.shape, np.array(x_data).shape)\n",
    "    x_data = np.concatenate((x_data,x_tmnist))\n",
    "    return x_data, np.concatenate((y_data, y_tmnist))\n"
   ]
  },
  {
   "cell_type": "code",
   "execution_count": 8,
   "metadata": {},
   "outputs": [
    {
     "name": "stdout",
     "output_type": "stream",
     "text": [
      "<class 'pandas.core.frame.DataFrame'>\n",
      "RangeIndex: 29900 entries, 0 to 29899\n",
      "Columns: 786 entries, names to 784\n",
      "dtypes: int64(785), object(1)\n",
      "memory usage: 179.3+ MB\n"
     ]
    }
   ],
   "source": [
    "import matplotlib.pyplot as plt\n",
    "\n",
    "dataset_url = \"datasets/TMNIST_Data.csv\"\n",
    "df_tmnist = pd.read_csv(dataset_url)\n",
    "df_tmnist.info()\n",
    "\n"
   ]
  },
  {
   "cell_type": "code",
   "execution_count": 9,
   "metadata": {},
   "outputs": [
    {
     "name": "stdout",
     "output_type": "stream",
     "text": [
      "Line:  0\n",
      "Metal device set to: Apple M1 Pro\n",
      "\n",
      "systemMemory: 32.00 GB\n",
      "maxCacheSize: 10.67 GB\n",
      "\n"
     ]
    },
    {
     "name": "stderr",
     "output_type": "stream",
     "text": [
      "2022-05-19 21:07:53.999487: I tensorflow/core/common_runtime/pluggable_device/pluggable_device_factory.cc:305] Could not identify NUMA node of platform GPU ID 0, defaulting to 0. Your kernel may not have been built with NUMA support.\n",
      "2022-05-19 21:07:53.999619: I tensorflow/core/common_runtime/pluggable_device/pluggable_device_factory.cc:271] Created TensorFlow device (/job:localhost/replica:0/task:0/device:GPU:0 with 0 MB memory) -> physical PluggableDevice (device: 0, name: METAL, pci bus id: <undefined>)\n"
     ]
    },
    {
     "name": "stdout",
     "output_type": "stream",
     "text": [
      "Line:  1000\n",
      "Line:  2000\n",
      "Line:  3000\n",
      "Line:  4000\n",
      "Line:  5000\n",
      "Line:  6000\n",
      "Line:  7000\n",
      "Line:  8000\n",
      "Line:  9000\n",
      "Line:  10000\n",
      "Line:  11000\n",
      "Line:  12000\n",
      "Line:  13000\n",
      "Line:  14000\n",
      "Line:  15000\n",
      "Line:  16000\n",
      "Line:  17000\n",
      "Line:  18000\n",
      "Line:  19000\n",
      "Line:  20000\n",
      "Line:  21000\n",
      "Line:  22000\n",
      "Line:  23000\n",
      "Line:  24000\n",
      "Line:  25000\n",
      "Line:  26000\n",
      "Line:  27000\n",
      "Line:  28000\n",
      "Line:  29000\n"
     ]
    }
   ],
   "source": [
    "\n",
    "import numpy as np\n",
    "import matplotlib.pyplot as plt\n",
    "import tensorflow as tf\n",
    "\n",
    "\n",
    "for k, row in df_tmnist.iterrows():\n",
    "    if (k%1000==0):\n",
    "            if ('df_percental' in locals()):\n",
    "                df_percental.to_csv(\"datasets/TMNIST_PERCENTAL_\"+ str(k) +\"_Data.csv\", index=False)\n",
    "            df_percental = pd.DataFrame()\n",
    "            print(\"Line: \", k)\n",
    "\n",
    "    label = row['labels']\n",
    "    label_next = (label+1)%10\n",
    "    \n",
    "    dfp1 = df_tmnist[(df_tmnist['names'] == row['names']) & (df_tmnist['labels'] == label_next)]\n",
    "    # be shure only one row found\n",
    "    assert( len(dfp1)==1), label\n",
    "    \n",
    "    # first image\n",
    "    img0 = row.drop('names').drop('labels').values.reshape( 28, 28, 1)\n",
    "    img1 = dfp1.iloc[0].drop('names').drop('labels').values.reshape(28, 28, 1)\n",
    "    # remove the last 2 lines of the first image and the first two lines of the second image\n",
    "    img0 = np.delete(img0, (-1,-2), axis=0).reshape(-1,26,28,1)\n",
    "    img1 = np.delete(img1, (0,1), axis=0).reshape(-1, 26, 28,1)\n",
    "    img_both = np.concatenate((img0, img1), axis=1)\n",
    "    for i in range(10):\n",
    "        label_current = label + i/10\n",
    "        \n",
    "        #[y1, x1, y2, x2]\n",
    "        boxes =  [[(i/10)/2, 0, ((i/10)/2)+.5, 1]]\n",
    "        img_n = tf.image.crop_and_resize(img_both.astype(float), boxes, [0], (28,28))\n",
    "        \n",
    "        # to row\n",
    "        flat_img = np.array(img_n[0]).astype(\"uint8\").ravel()\n",
    "        new_row = {}\n",
    "        new_row['names'] = row['names']\n",
    "        new_row['labels'] = label_current\n",
    "        for j in range(len(flat_img)):\n",
    "            new_row[str(j+1)] = int(flat_img[j])\n",
    "        \n",
    "        # append to dataframe\n",
    "        df_percental = pd.concat([df_percental, pd.DataFrame([new_row])], ignore_index=True)\n",
    "        \n",
    "    \n",
    "        \n"
   ]
  }
 ],
 "metadata": {
  "interpreter": {
   "hash": "4976e0179d97dd6d59b1329a76e601e17b789c2571b41c8b57f5fd69821c0dd3"
  },
  "kernelspec": {
   "display_name": "Python 3.9.10 ('mlp')",
   "language": "python",
   "name": "python3"
  },
  "language_info": {
   "codemirror_mode": {
    "name": "ipython",
    "version": 3
   },
   "file_extension": ".py",
   "mimetype": "text/x-python",
   "name": "python",
   "nbconvert_exporter": "python",
   "pygments_lexer": "ipython3",
   "version": "3.9.10"
  },
  "orig_nbformat": 4
 },
 "nbformat": 4,
 "nbformat_minor": 2
}
